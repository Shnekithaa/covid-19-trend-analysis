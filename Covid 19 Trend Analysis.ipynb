{
 "cells": [
  {
   "cell_type": "code",
   "execution_count": 1,
   "id": "ca6cabfa",
   "metadata": {},
   "outputs": [],
   "source": [
    "import pandas as pd\n",
    "import numpy as np\n",
    "import matplotlib.pyplot as plt\n",
    "import seaborn as sbn"
   ]
  },
  {
   "cell_type": "code",
   "execution_count": 2,
   "id": "5d0008b0",
   "metadata": {},
   "outputs": [],
   "source": [
    "cdf = pd.read_csv(r\"C:\\Users\\shnek\\Downloads\\covid_19_clean_complete\\covid_19_clean_complete.csv\")"
   ]
  },
  {
   "cell_type": "code",
   "execution_count": 3,
   "id": "04a144a1",
   "metadata": {},
   "outputs": [
    {
     "data": {
      "text/html": [
       "<div>\n",
       "<style scoped>\n",
       "    .dataframe tbody tr th:only-of-type {\n",
       "        vertical-align: middle;\n",
       "    }\n",
       "\n",
       "    .dataframe tbody tr th {\n",
       "        vertical-align: top;\n",
       "    }\n",
       "\n",
       "    .dataframe thead th {\n",
       "        text-align: right;\n",
       "    }\n",
       "</style>\n",
       "<table border=\"1\" class=\"dataframe\">\n",
       "  <thead>\n",
       "    <tr style=\"text-align: right;\">\n",
       "      <th></th>\n",
       "      <th>Province/State</th>\n",
       "      <th>Country/Region</th>\n",
       "      <th>Lat</th>\n",
       "      <th>Long</th>\n",
       "      <th>Date</th>\n",
       "      <th>Confirmed</th>\n",
       "      <th>Deaths</th>\n",
       "      <th>Recovered</th>\n",
       "      <th>Active</th>\n",
       "      <th>WHO Region</th>\n",
       "    </tr>\n",
       "  </thead>\n",
       "  <tbody>\n",
       "    <tr>\n",
       "      <th>0</th>\n",
       "      <td>NaN</td>\n",
       "      <td>Afghanistan</td>\n",
       "      <td>33.939110</td>\n",
       "      <td>67.709953</td>\n",
       "      <td>2020-01-22</td>\n",
       "      <td>0</td>\n",
       "      <td>0</td>\n",
       "      <td>0</td>\n",
       "      <td>0</td>\n",
       "      <td>Eastern Mediterranean</td>\n",
       "    </tr>\n",
       "    <tr>\n",
       "      <th>1</th>\n",
       "      <td>NaN</td>\n",
       "      <td>Albania</td>\n",
       "      <td>41.153300</td>\n",
       "      <td>20.168300</td>\n",
       "      <td>2020-01-22</td>\n",
       "      <td>0</td>\n",
       "      <td>0</td>\n",
       "      <td>0</td>\n",
       "      <td>0</td>\n",
       "      <td>Europe</td>\n",
       "    </tr>\n",
       "    <tr>\n",
       "      <th>2</th>\n",
       "      <td>NaN</td>\n",
       "      <td>Algeria</td>\n",
       "      <td>28.033900</td>\n",
       "      <td>1.659600</td>\n",
       "      <td>2020-01-22</td>\n",
       "      <td>0</td>\n",
       "      <td>0</td>\n",
       "      <td>0</td>\n",
       "      <td>0</td>\n",
       "      <td>Africa</td>\n",
       "    </tr>\n",
       "    <tr>\n",
       "      <th>3</th>\n",
       "      <td>NaN</td>\n",
       "      <td>Andorra</td>\n",
       "      <td>42.506300</td>\n",
       "      <td>1.521800</td>\n",
       "      <td>2020-01-22</td>\n",
       "      <td>0</td>\n",
       "      <td>0</td>\n",
       "      <td>0</td>\n",
       "      <td>0</td>\n",
       "      <td>Europe</td>\n",
       "    </tr>\n",
       "    <tr>\n",
       "      <th>4</th>\n",
       "      <td>NaN</td>\n",
       "      <td>Angola</td>\n",
       "      <td>-11.202700</td>\n",
       "      <td>17.873900</td>\n",
       "      <td>2020-01-22</td>\n",
       "      <td>0</td>\n",
       "      <td>0</td>\n",
       "      <td>0</td>\n",
       "      <td>0</td>\n",
       "      <td>Africa</td>\n",
       "    </tr>\n",
       "    <tr>\n",
       "      <th>...</th>\n",
       "      <td>...</td>\n",
       "      <td>...</td>\n",
       "      <td>...</td>\n",
       "      <td>...</td>\n",
       "      <td>...</td>\n",
       "      <td>...</td>\n",
       "      <td>...</td>\n",
       "      <td>...</td>\n",
       "      <td>...</td>\n",
       "      <td>...</td>\n",
       "    </tr>\n",
       "    <tr>\n",
       "      <th>49063</th>\n",
       "      <td>NaN</td>\n",
       "      <td>Sao Tome and Principe</td>\n",
       "      <td>0.186400</td>\n",
       "      <td>6.613100</td>\n",
       "      <td>2020-07-27</td>\n",
       "      <td>865</td>\n",
       "      <td>14</td>\n",
       "      <td>734</td>\n",
       "      <td>117</td>\n",
       "      <td>Africa</td>\n",
       "    </tr>\n",
       "    <tr>\n",
       "      <th>49064</th>\n",
       "      <td>NaN</td>\n",
       "      <td>Yemen</td>\n",
       "      <td>15.552727</td>\n",
       "      <td>48.516388</td>\n",
       "      <td>2020-07-27</td>\n",
       "      <td>1691</td>\n",
       "      <td>483</td>\n",
       "      <td>833</td>\n",
       "      <td>375</td>\n",
       "      <td>Eastern Mediterranean</td>\n",
       "    </tr>\n",
       "    <tr>\n",
       "      <th>49065</th>\n",
       "      <td>NaN</td>\n",
       "      <td>Comoros</td>\n",
       "      <td>-11.645500</td>\n",
       "      <td>43.333300</td>\n",
       "      <td>2020-07-27</td>\n",
       "      <td>354</td>\n",
       "      <td>7</td>\n",
       "      <td>328</td>\n",
       "      <td>19</td>\n",
       "      <td>Africa</td>\n",
       "    </tr>\n",
       "    <tr>\n",
       "      <th>49066</th>\n",
       "      <td>NaN</td>\n",
       "      <td>Tajikistan</td>\n",
       "      <td>38.861000</td>\n",
       "      <td>71.276100</td>\n",
       "      <td>2020-07-27</td>\n",
       "      <td>7235</td>\n",
       "      <td>60</td>\n",
       "      <td>6028</td>\n",
       "      <td>1147</td>\n",
       "      <td>Europe</td>\n",
       "    </tr>\n",
       "    <tr>\n",
       "      <th>49067</th>\n",
       "      <td>NaN</td>\n",
       "      <td>Lesotho</td>\n",
       "      <td>-29.610000</td>\n",
       "      <td>28.233600</td>\n",
       "      <td>2020-07-27</td>\n",
       "      <td>505</td>\n",
       "      <td>12</td>\n",
       "      <td>128</td>\n",
       "      <td>365</td>\n",
       "      <td>Africa</td>\n",
       "    </tr>\n",
       "  </tbody>\n",
       "</table>\n",
       "<p>49068 rows × 10 columns</p>\n",
       "</div>"
      ],
      "text/plain": [
       "      Province/State         Country/Region        Lat       Long        Date  \\\n",
       "0                NaN            Afghanistan  33.939110  67.709953  2020-01-22   \n",
       "1                NaN                Albania  41.153300  20.168300  2020-01-22   \n",
       "2                NaN                Algeria  28.033900   1.659600  2020-01-22   \n",
       "3                NaN                Andorra  42.506300   1.521800  2020-01-22   \n",
       "4                NaN                 Angola -11.202700  17.873900  2020-01-22   \n",
       "...              ...                    ...        ...        ...         ...   \n",
       "49063            NaN  Sao Tome and Principe   0.186400   6.613100  2020-07-27   \n",
       "49064            NaN                  Yemen  15.552727  48.516388  2020-07-27   \n",
       "49065            NaN                Comoros -11.645500  43.333300  2020-07-27   \n",
       "49066            NaN             Tajikistan  38.861000  71.276100  2020-07-27   \n",
       "49067            NaN                Lesotho -29.610000  28.233600  2020-07-27   \n",
       "\n",
       "       Confirmed  Deaths  Recovered  Active             WHO Region  \n",
       "0              0       0          0       0  Eastern Mediterranean  \n",
       "1              0       0          0       0                 Europe  \n",
       "2              0       0          0       0                 Africa  \n",
       "3              0       0          0       0                 Europe  \n",
       "4              0       0          0       0                 Africa  \n",
       "...          ...     ...        ...     ...                    ...  \n",
       "49063        865      14        734     117                 Africa  \n",
       "49064       1691     483        833     375  Eastern Mediterranean  \n",
       "49065        354       7        328      19                 Africa  \n",
       "49066       7235      60       6028    1147                 Europe  \n",
       "49067        505      12        128     365                 Africa  \n",
       "\n",
       "[49068 rows x 10 columns]"
      ]
     },
     "execution_count": 3,
     "metadata": {},
     "output_type": "execute_result"
    }
   ],
   "source": [
    "cdf"
   ]
  },
  {
   "cell_type": "code",
   "execution_count": 5,
   "id": "221b3e9a",
   "metadata": {},
   "outputs": [
    {
     "name": "stdout",
     "output_type": "stream",
     "text": [
      "<class 'pandas.core.frame.DataFrame'>\n",
      "RangeIndex: 49068 entries, 0 to 49067\n",
      "Data columns (total 10 columns):\n",
      " #   Column          Non-Null Count  Dtype  \n",
      "---  ------          --------------  -----  \n",
      " 0   Province/State  14664 non-null  object \n",
      " 1   Country/Region  49068 non-null  object \n",
      " 2   Lat             49068 non-null  float64\n",
      " 3   Long            49068 non-null  float64\n",
      " 4   Date            49068 non-null  object \n",
      " 5   Confirmed       49068 non-null  int64  \n",
      " 6   Deaths          49068 non-null  int64  \n",
      " 7   Recovered       49068 non-null  int64  \n",
      " 8   Active          49068 non-null  int64  \n",
      " 9   WHO Region      49068 non-null  object \n",
      "dtypes: float64(2), int64(4), object(4)\n",
      "memory usage: 3.7+ MB\n"
     ]
    }
   ],
   "source": [
    "cdf.info()"
   ]
  },
  {
   "cell_type": "code",
   "execution_count": 6,
   "id": "2cf8b368",
   "metadata": {},
   "outputs": [
    {
     "data": {
      "text/plain": [
       "Province/State    34404\n",
       "Country/Region        0\n",
       "Lat                   0\n",
       "Long                  0\n",
       "Date                  0\n",
       "Confirmed             0\n",
       "Deaths                0\n",
       "Recovered             0\n",
       "Active                0\n",
       "WHO Region            0\n",
       "dtype: int64"
      ]
     },
     "execution_count": 6,
     "metadata": {},
     "output_type": "execute_result"
    }
   ],
   "source": [
    "cdf.isnull().sum()"
   ]
  },
  {
   "cell_type": "code",
   "execution_count": 8,
   "id": "a9f24a36",
   "metadata": {},
   "outputs": [],
   "source": [
    "cdf['Date'] = pd.to_datetime(cdf['Date'])"
   ]
  },
  {
   "cell_type": "code",
   "execution_count": 9,
   "id": "3717ee95",
   "metadata": {},
   "outputs": [
    {
     "name": "stdout",
     "output_type": "stream",
     "text": [
      "<class 'pandas.core.frame.DataFrame'>\n",
      "RangeIndex: 49068 entries, 0 to 49067\n",
      "Data columns (total 10 columns):\n",
      " #   Column          Non-Null Count  Dtype         \n",
      "---  ------          --------------  -----         \n",
      " 0   Province/State  14664 non-null  object        \n",
      " 1   Country/Region  49068 non-null  object        \n",
      " 2   Lat             49068 non-null  float64       \n",
      " 3   Long            49068 non-null  float64       \n",
      " 4   Date            49068 non-null  datetime64[ns]\n",
      " 5   Confirmed       49068 non-null  int64         \n",
      " 6   Deaths          49068 non-null  int64         \n",
      " 7   Recovered       49068 non-null  int64         \n",
      " 8   Active          49068 non-null  int64         \n",
      " 9   WHO Region      49068 non-null  object        \n",
      "dtypes: datetime64[ns](1), float64(2), int64(4), object(3)\n",
      "memory usage: 3.7+ MB\n"
     ]
    }
   ],
   "source": [
    "cdf.info()"
   ]
  },
  {
   "cell_type": "code",
   "execution_count": 10,
   "id": "764dc69c",
   "metadata": {},
   "outputs": [
    {
     "data": {
      "text/plain": [
       "Index(['Province/State', 'Country/Region', 'Lat', 'Long', 'Date', 'Confirmed',\n",
       "       'Deaths', 'Recovered', 'Active', 'WHO Region'],\n",
       "      dtype='object')"
      ]
     },
     "execution_count": 10,
     "metadata": {},
     "output_type": "execute_result"
    }
   ],
   "source": [
    "cdf.columns"
   ]
  },
  {
   "cell_type": "code",
   "execution_count": 11,
   "id": "1f2c1d00",
   "metadata": {},
   "outputs": [],
   "source": [
    "cdf['Province/State'].fillna(\"Unknown\", inplace=True)"
   ]
  },
  {
   "cell_type": "code",
   "execution_count": 12,
   "id": "fd36486c",
   "metadata": {},
   "outputs": [
    {
     "data": {
      "text/plain": [
       "Province/State    0\n",
       "Country/Region    0\n",
       "Lat               0\n",
       "Long              0\n",
       "Date              0\n",
       "Confirmed         0\n",
       "Deaths            0\n",
       "Recovered         0\n",
       "Active            0\n",
       "WHO Region        0\n",
       "dtype: int64"
      ]
     },
     "execution_count": 12,
     "metadata": {},
     "output_type": "execute_result"
    }
   ],
   "source": [
    "cdf.isnull().sum()"
   ]
  },
  {
   "cell_type": "code",
   "execution_count": 16,
   "id": "1a7ee819",
   "metadata": {},
   "outputs": [
    {
     "data": {
      "text/html": [
       "<div>\n",
       "<style scoped>\n",
       "    .dataframe tbody tr th:only-of-type {\n",
       "        vertical-align: middle;\n",
       "    }\n",
       "\n",
       "    .dataframe tbody tr th {\n",
       "        vertical-align: top;\n",
       "    }\n",
       "\n",
       "    .dataframe thead th {\n",
       "        text-align: right;\n",
       "    }\n",
       "</style>\n",
       "<table border=\"1\" class=\"dataframe\">\n",
       "  <thead>\n",
       "    <tr style=\"text-align: right;\">\n",
       "      <th></th>\n",
       "      <th>Country/Region</th>\n",
       "      <th>Date</th>\n",
       "      <th>Confirmed</th>\n",
       "      <th>Deaths</th>\n",
       "      <th>Recovered</th>\n",
       "      <th>Active</th>\n",
       "    </tr>\n",
       "  </thead>\n",
       "  <tbody>\n",
       "    <tr>\n",
       "      <th>35151</th>\n",
       "      <td>Zimbabwe</td>\n",
       "      <td>2020-07-23</td>\n",
       "      <td>2124</td>\n",
       "      <td>28</td>\n",
       "      <td>510</td>\n",
       "      <td>1586</td>\n",
       "    </tr>\n",
       "    <tr>\n",
       "      <th>35152</th>\n",
       "      <td>Zimbabwe</td>\n",
       "      <td>2020-07-24</td>\n",
       "      <td>2296</td>\n",
       "      <td>32</td>\n",
       "      <td>514</td>\n",
       "      <td>1750</td>\n",
       "    </tr>\n",
       "    <tr>\n",
       "      <th>35153</th>\n",
       "      <td>Zimbabwe</td>\n",
       "      <td>2020-07-25</td>\n",
       "      <td>2434</td>\n",
       "      <td>34</td>\n",
       "      <td>518</td>\n",
       "      <td>1882</td>\n",
       "    </tr>\n",
       "    <tr>\n",
       "      <th>35154</th>\n",
       "      <td>Zimbabwe</td>\n",
       "      <td>2020-07-26</td>\n",
       "      <td>2512</td>\n",
       "      <td>34</td>\n",
       "      <td>518</td>\n",
       "      <td>1960</td>\n",
       "    </tr>\n",
       "    <tr>\n",
       "      <th>35155</th>\n",
       "      <td>Zimbabwe</td>\n",
       "      <td>2020-07-27</td>\n",
       "      <td>2704</td>\n",
       "      <td>36</td>\n",
       "      <td>542</td>\n",
       "      <td>2126</td>\n",
       "    </tr>\n",
       "  </tbody>\n",
       "</table>\n",
       "</div>"
      ],
      "text/plain": [
       "      Country/Region       Date  Confirmed  Deaths  Recovered  Active\n",
       "35151       Zimbabwe 2020-07-23       2124      28        510    1586\n",
       "35152       Zimbabwe 2020-07-24       2296      32        514    1750\n",
       "35153       Zimbabwe 2020-07-25       2434      34        518    1882\n",
       "35154       Zimbabwe 2020-07-26       2512      34        518    1960\n",
       "35155       Zimbabwe 2020-07-27       2704      36        542    2126"
      ]
     },
     "execution_count": 16,
     "metadata": {},
     "output_type": "execute_result"
    }
   ],
   "source": [
    "# Aggregating data by 'Country/Region' and 'Date'\n",
    "aggregated_data = cdf.groupby(['Country/Region', 'Date']).agg({\n",
    "    'Confirmed': 'sum',\n",
    "    'Deaths': 'sum',\n",
    "    'Recovered': 'sum',\n",
    "    'Active': 'sum'\n",
    "}).reset_index()\n",
    "\n",
    "aggregated_data.tail()"
   ]
  },
  {
   "cell_type": "code",
   "execution_count": 17,
   "id": "9a742720",
   "metadata": {},
   "outputs": [
    {
     "data": {
      "image/png": "[encoded data removed]",
      "text/plain": [
       "<Figure size 1200x600 with 1 Axes>"
      ]
     },
     "metadata": {},
     "output_type": "display_data"
    }
   ],
   "source": [
    "# Analyzing global trends by date\n",
    "global_trends = aggregated_data.groupby('Date')[['Confirmed', 'Deaths', 'Recovered', 'Active']].sum()\n",
    "\n",
    "# Plotting global trends\n",
    "\n",
    "plt.figure(figsize=(12, 6))\n",
    "plt.plot(global_trends.index, global_trends['Confirmed'], label='Confirmed', color='blue')\n",
    "plt.plot(global_trends.index, global_trends['Recovered'], label='Recovered', color='green')\n",
    "plt.plot(global_trends.index, global_trends['Active'], label='Active', color='orange')\n",
    "plt.plot(global_trends.index, global_trends['Deaths'], label='Deaths', color='red')\n",
    "plt.title('Global COVID-19 Trends Over Time')\n",
    "plt.xlabel('Date')\n",
    "plt.ylabel('Number of Cases')\n",
    "plt.legend()\n",
    "plt.grid()\n",
    "plt.show()\n"
   ]
  },
  {
   "cell_type": "code",
   "execution_count": 20,
   "id": "f5c16d82",
   "metadata": {},
   "outputs": [
    {
     "name": "stdout",
     "output_type": "stream",
     "text": [
      "Top 5 Countries:\n",
      " Country/Region\n",
      "US              4290259\n",
      "Brazil          2442375\n",
      "India           1480073\n",
      "Russia           816680\n",
      "South Africa     452529\n",
      "Name: Confirmed, dtype: int64\n"
     ]
    }
   ],
   "source": [
    "# Finding top 5 countries with the highest total confirmed cases\n",
    "top_countries = aggregated_data.groupby('Country/Region')['Confirmed'].max().sort_values(ascending=False).head(5)\n",
    "print(\"Top 5 Countries:\\n\", top_countries)"
   ]
  },
  {
   "cell_type": "code",
   "execution_count": 21,
   "id": "b1f7fa8f",
   "metadata": {},
   "outputs": [],
   "source": [
    "# Data for Prophet\n",
    "prophet_data = global_trends.reset_index()[['Date', 'Confirmed']]\n",
    "prophet_data.columns = ['ds', 'y']  "
   ]
  },
  {
   "cell_type": "code",
   "execution_count": 24,
   "id": "19edcbe4",
   "metadata": {},
   "outputs": [
    {
     "name": "stderr",
     "output_type": "stream",
     "text": [
      "16:40:01 - cmdstanpy - INFO - Chain [1] start processing\n",
      "16:40:01 - cmdstanpy - INFO - Chain [1] done processing\n"
     ]
    }
   ],
   "source": [
    "from prophet import Prophet\n",
    "\n",
    "# Initializing the Prophet model\n",
    "model = Prophet()\n",
    "model.fit(prophet_data)\n",
    "\n",
    "# Creating a dataframe for future predictions (7 days ahead)\n",
    "future = model.make_future_dataframe(periods=7)\n",
    "forecast = model.predict(future)"
   ]
  },
  {
   "cell_type": "code",
   "execution_count": 23,
   "id": "fd1aefcf",
   "metadata": {},
   "outputs": [
    {
     "name": "stdout",
     "output_type": "stream",
     "text": [
      "Collecting prophet\n",
      "  Downloading prophet-1.1.6-py3-none-win_amd64.whl.metadata (3.6 kB)\n",
      "Collecting cmdstanpy>=1.0.4 (from prophet)\n",
      "  Downloading cmdstanpy-1.2.5-py3-none-any.whl.metadata (4.0 kB)\n",
      "Requirement already satisfied: numpy>=1.15.4 in c:\\users\\shnek\\anaconda3\\lib\\site-packages (from prophet) (1.26.4)\n",
      "Requirement already satisfied: matplotlib>=2.0.0 in c:\\users\\shnek\\anaconda3\\lib\\site-packages (from prophet) (3.8.0)\n",
      "Requirement already satisfied: pandas>=1.0.4 in c:\\users\\shnek\\anaconda3\\lib\\site-packages (from prophet) (2.1.4)\n",
      "Collecting holidays<1,>=0.25 (from prophet)\n",
      "  Downloading holidays-0.63-py3-none-any.whl.metadata (26 kB)\n",
      "Requirement already satisfied: tqdm>=4.36.1 in c:\\users\\shnek\\anaconda3\\lib\\site-packages (from prophet) (4.65.0)\n",
      "Requirement already satisfied: importlib-resources in c:\\users\\shnek\\anaconda3\\lib\\site-packages (from prophet) (6.4.5)\n",
      "Collecting stanio<2.0.0,>=0.4.0 (from cmdstanpy>=1.0.4->prophet)\n",
      "  Downloading stanio-0.5.1-py3-none-any.whl.metadata (1.6 kB)\n",
      "Requirement already satisfied: python-dateutil in c:\\users\\shnek\\anaconda3\\lib\\site-packages (from holidays<1,>=0.25->prophet) (2.8.2)\n",
      "Requirement already satisfied: contourpy>=1.0.1 in c:\\users\\shnek\\anaconda3\\lib\\site-packages (from matplotlib>=2.0.0->prophet) (1.2.0)\n",
      "Requirement already satisfied: cycler>=0.10 in c:\\users\\shnek\\anaconda3\\lib\\site-packages (from matplotlib>=2.0.0->prophet) (0.11.0)\n",
      "Requirement already satisfied: fonttools>=4.22.0 in c:\\users\\shnek\\anaconda3\\lib\\site-packages (from matplotlib>=2.0.0->prophet) (4.25.0)\n",
      "Requirement already satisfied: kiwisolver>=1.0.1 in c:\\users\\shnek\\anaconda3\\lib\\site-packages (from matplotlib>=2.0.0->prophet) (1.4.4)\n",
      "Requirement already satisfied: packaging>=20.0 in c:\\users\\shnek\\anaconda3\\lib\\site-packages (from matplotlib>=2.0.0->prophet) (24.2)\n",
      "Requirement already satisfied: pillow>=6.2.0 in c:\\users\\shnek\\anaconda3\\lib\\site-packages (from matplotlib>=2.0.0->prophet) (10.2.0)\n",
      "Requirement already satisfied: pyparsing>=2.3.1 in c:\\users\\shnek\\anaconda3\\lib\\site-packages (from matplotlib>=2.0.0->prophet) (3.0.9)\n",
      "Requirement already satisfied: pytz>=2020.1 in c:\\users\\shnek\\anaconda3\\lib\\site-packages (from pandas>=1.0.4->prophet) (2023.3.post1)\n",
      "Requirement already satisfied: tzdata>=2022.1 in c:\\users\\shnek\\anaconda3\\lib\\site-packages (from pandas>=1.0.4->prophet) (2023.3)\n",
      "Requirement already satisfied: colorama in c:\\users\\shnek\\anaconda3\\lib\\site-packages (from tqdm>=4.36.1->prophet) (0.4.6)\n",
      "Requirement already satisfied: six>=1.5 in c:\\users\\shnek\\anaconda3\\lib\\site-packages (from python-dateutil->holidays<1,>=0.25->prophet) (1.16.0)\n",
      "Downloading prophet-1.1.6-py3-none-win_amd64.whl (13.3 MB)\n",
      "   ---------------------------------------- 0.0/13.3 MB ? eta -:--:--\n",
      "   ---------------------------------------- 0.1/13.3 MB 1.7 MB/s eta 0:00:09\n",
      "    --------------------------------------- 0.2/13.3 MB 2.2 MB/s eta 0:00:07\n",
      "   - -------------------------------------- 0.4/13.3 MB 2.8 MB/s eta 0:00:05\n",
      "   - -------------------------------------- 0.5/13.3 MB 2.5 MB/s eta 0:00:06\n",
      "   - -------------------------------------- 0.6/13.3 MB 2.7 MB/s eta 0:00:05\n",
      "   -- ------------------------------------- 0.7/13.3 MB 2.7 MB/s eta 0:00:05\n",
      "   -- ------------------------------------- 0.9/13.3 MB 2.7 MB/s eta 0:00:05\n",
      "   --- ------------------------------------ 1.1/13.3 MB 2.9 MB/s eta 0:00:05\n",
      "   --- ------------------------------------ 1.2/13.3 MB 2.9 MB/s eta 0:00:05\n",
      "   ---- ----------------------------------- 1.4/13.3 MB 2.9 MB/s eta 0:00:05\n",
      "   ---- ----------------------------------- 1.5/13.3 MB 3.0 MB/s eta 0:00:04\n",
      "   ----- ---------------------------------- 1.7/13.3 MB 3.1 MB/s eta 0:00:04\n",
      "   ----- ---------------------------------- 1.9/13.3 MB 3.2 MB/s eta 0:00:04\n",
      "   ------ --------------------------------- 2.1/13.3 MB 3.2 MB/s eta 0:00:04\n",
      "   ------ --------------------------------- 2.3/13.3 MB 3.4 MB/s eta 0:00:04\n",
      "   ------- -------------------------------- 2.5/13.3 MB 3.4 MB/s eta 0:00:04\n",
      "   ------- -------------------------------- 2.5/13.3 MB 3.1 MB/s eta 0:00:04\n",
      "   -------- ------------------------------- 2.7/13.3 MB 3.3 MB/s eta 0:00:04\n",
      "   -------- ------------------------------- 3.0/13.3 MB 3.3 MB/s eta 0:00:04\n",
      "   --------- ------------------------------ 3.3/13.3 MB 3.5 MB/s eta 0:00:03\n",
      "   ---------- ----------------------------- 3.5/13.3 MB 3.5 MB/s eta 0:00:03\n",
      "   ----------- ---------------------------- 3.7/13.3 MB 3.7 MB/s eta 0:00:03\n",
      "   ------------ --------------------------- 4.0/13.3 MB 3.7 MB/s eta 0:00:03\n",
      "   ------------ --------------------------- 4.1/13.3 MB 3.7 MB/s eta 0:00:03\n",
      "   ------------ --------------------------- 4.3/13.3 MB 3.7 MB/s eta 0:00:03\n",
      "   ------------- -------------------------- 4.7/13.3 MB 3.8 MB/s eta 0:00:03\n",
      "   -------------- ------------------------- 4.8/13.3 MB 3.8 MB/s eta 0:00:03\n",
      "   --------------- ------------------------ 5.1/13.3 MB 3.9 MB/s eta 0:00:03\n",
      "   --------------- ------------------------ 5.3/13.3 MB 3.9 MB/s eta 0:00:03\n",
      "   ----------------- ---------------------- 5.7/13.3 MB 4.0 MB/s eta 0:00:02\n",
      "   ----------------- ---------------------- 5.8/13.3 MB 4.0 MB/s eta 0:00:02\n",
      "   ------------------ --------------------- 6.1/13.3 MB 4.0 MB/s eta 0:00:02\n",
      "   ------------------- -------------------- 6.4/13.3 MB 4.1 MB/s eta 0:00:02\n",
      "   ------------------- -------------------- 6.4/13.3 MB 4.1 MB/s eta 0:00:02\n",
      "   ------------------- -------------------- 6.5/13.3 MB 4.1 MB/s eta 0:00:02\n",
      "   ------------------- -------------------- 6.6/13.3 MB 3.9 MB/s eta 0:00:02\n",
      "   -------------------- ------------------- 6.9/13.3 MB 4.0 MB/s eta 0:00:02\n",
      "   --------------------- ------------------ 7.0/13.3 MB 3.9 MB/s eta 0:00:02\n",
      "   ---------------------- ----------------- 7.4/13.3 MB 4.1 MB/s eta 0:00:02\n",
      "   ---------------------- ----------------- 7.4/13.3 MB 4.0 MB/s eta 0:00:02\n",
      "   ---------------------- ----------------- 7.6/13.3 MB 3.9 MB/s eta 0:00:02\n",
      "   ----------------------- ---------------- 7.8/13.3 MB 3.9 MB/s eta 0:00:02\n",
      "   ----------------------- ---------------- 7.9/13.3 MB 3.9 MB/s eta 0:00:02\n",
      "   ------------------------ --------------- 8.1/13.3 MB 3.9 MB/s eta 0:00:02\n",
      "   ------------------------ --------------- 8.2/13.3 MB 3.9 MB/s eta 0:00:02\n",
      "   ------------------------- -------------- 8.5/13.3 MB 4.0 MB/s eta 0:00:02\n",
      "   -------------------------- ------------- 8.8/13.3 MB 4.0 MB/s eta 0:00:02\n",
      "   --------------------------- ------------ 9.1/13.3 MB 4.1 MB/s eta 0:00:02\n",
      "   ---------------------------- ----------- 9.4/13.3 MB 4.1 MB/s eta 0:00:01\n",
      "   ----------------------------- ---------- 9.7/13.3 MB 4.2 MB/s eta 0:00:01\n",
      "   ----------------------------- ---------- 9.9/13.3 MB 4.2 MB/s eta 0:00:01\n",
      "   ------------------------------ --------- 10.1/13.3 MB 4.2 MB/s eta 0:00:01\n",
      "   ------------------------------- -------- 10.5/13.3 MB 4.3 MB/s eta 0:00:01\n",
      "   -------------------------------- ------- 10.8/13.3 MB 4.5 MB/s eta 0:00:01\n",
      "   --------------------------------- ------ 11.1/13.3 MB 4.6 MB/s eta 0:00:01\n",
      "   --------------------------------- ------ 11.3/13.3 MB 4.6 MB/s eta 0:00:01\n",
      "   ---------------------------------- ----- 11.6/13.3 MB 4.7 MB/s eta 0:00:01\n",
      "   ----------------------------------- ---- 11.9/13.3 MB 4.7 MB/s eta 0:00:01\n",
      "   ------------------------------------ --- 12.3/13.3 MB 4.9 MB/s eta 0:00:01\n",
      "   ------------------------------------- -- 12.4/13.3 MB 4.8 MB/s eta 0:00:01\n",
      "   ------------------------------------- -- 12.6/13.3 MB 4.8 MB/s eta 0:00:01\n",
      "   -------------------------------------- - 12.9/13.3 MB 4.9 MB/s eta 0:00:01\n",
      "   ---------------------------------------  13.2/13.3 MB 5.0 MB/s eta 0:00:01\n",
      "   ---------------------------------------  13.3/13.3 MB 5.0 MB/s eta 0:00:01\n",
      "   ---------------------------------------- 13.3/13.3 MB 4.9 MB/s eta 0:00:00\n",
      "Downloading cmdstanpy-1.2.5-py3-none-any.whl (94 kB)\n",
      "   ---------------------------------------- 0.0/94.5 kB ? eta -:--:--\n",
      "   ---------------------------------------- 94.5/94.5 kB 5.6 MB/s eta 0:00:00\n",
      "Downloading holidays-0.63-py3-none-any.whl (1.2 MB)\n",
      "   ---------------------------------------- 0.0/1.2 MB ? eta -:--:--\n",
      "   ---------- ----------------------------- 0.3/1.2 MB 9.9 MB/s eta 0:00:01\n",
      "   ----------------------- ---------------- 0.7/1.2 MB 8.8 MB/s eta 0:00:01\n",
      "   ----------------------- ---------------- 0.7/1.2 MB 8.9 MB/s eta 0:00:01\n",
      "   -------------------------------- ------- 1.0/1.2 MB 6.0 MB/s eta 0:00:01\n",
      "   ---------------------------------------- 1.2/1.2 MB 5.8 MB/s eta 0:00:00\n",
      "Downloading stanio-0.5.1-py3-none-any.whl (8.1 kB)\n",
      "Installing collected packages: stanio, holidays, cmdstanpy, prophet\n",
      "Successfully installed cmdstanpy-1.2.5 holidays-0.63 prophet-1.1.6 stanio-0.5.1\n"
     ]
    }
   ],
   "source": [
    "!pip install prophet"
   ]
  },
  {
   "cell_type": "code",
   "execution_count": 25,
   "id": "cf17c0f1",
   "metadata": {},
   "outputs": [
    {
     "name": "stderr",
     "output_type": "stream",
     "text": [
      "C:\\Users\\shnek\\AppData\\Local\\Temp\\ipykernel_4388\\2071730662.py:3: UserWarning: FigureCanvasAgg is non-interactive, and thus cannot be shown\n",
      "  fig.show()\n"
     ]
    },
    {
     "data": {
      "image/png": "[encoded data removed]",
      "text/plain": [
       "<Figure size 1000x600 with 1 Axes>"
      ]
     },
     "metadata": {},
     "output_type": "display_data"
    }
   ],
   "source": [
    "# Plotting the forecast (Future Prediction)\n",
    "fig = model.plot(forecast)\n",
    "fig.show()"
   ]
  },
  {
   "cell_type": "markdown",
   "id": "9ba23687",
   "metadata": {},
   "source": [
    "### Future Prediction of Covid 19"
   ]
  },
  {
   "cell_type": "code",
   "execution_count": 28,
   "id": "eec81fda",
   "metadata": {},
   "outputs": [
    {
     "data": {
      "image/png": "[encoded data removed]",
      "text/plain": [
       "<Figure size 1000x600 with 1 Axes>"
      ]
     },
     "metadata": {},
     "output_type": "display_data"
    },
    {
     "data": {
      "application/vnd.plotly.v1+json": {
       "config": {
        "plotlyServerURL": "https://plot.ly"
       },
       "data": [
        {
         "marker": {
          "color": "black",
          "size": 4
         },
         "mode": "markers",
         "name": "Actual",
         "type": "scatter",
         "x": [
          "2020-01-22T00:00:00",
          "2020-01-23T00:00:00",
          "2020-01-24T00:00:00",
          "2020-01-25T00:00:00",
          "2020-01-26T00:00:00",
          "2020-01-27T00:00:00",
          "2020-01-28T00:00:00",
          "2020-01-29T00:00:00",
          "2020-01-30T00:00:00",
          "2020-01-31T00:00:00",
          "2020-02-01T00:00:00",
          "2020-02-02T00:00:00",
          "2020-02-03T00:00:00",
          "2020-02-04T00:00:00",
          "2020-02-05T00:00:00",
          "2020-02-06T00:00:00",
          "2020-02-07T00:00:00",
          "2020-02-08T00:00:00",
          "2020-02-09T00:00:00",
          "2020-02-10T00:00:00",
          "2020-02-11T00:00:00",
          "2020-02-12T00:00:00",
          "2020-02-13T00:00:00",
          "2020-02-14T00:00:00",
          "2020-02-15T00:00:00",
          "2020-02-16T00:00:00",
          "2020-02-17T00:00:00",
          "2020-02-18T00:00:00",
          "2020-02-19T00:00:00",
          "2020-02-20T00:00:00",
          "2020-02-21T00:00:00",
          "2020-02-22T00:00:00",
          "2020-02-23T00:00:00",
          "2020-02-24T00:00:00",
          "2020-02-25T00:00:00",
          "2020-02-26T00:00:00",
          "2020-02-27T00:00:00",
          "2020-02-28T00:00:00",
          "2020-02-29T00:00:00",
          "2020-03-01T00:00:00",
          "2020-03-02T00:00:00",
          "2020-03-03T00:00:00",
          "2020-03-04T00:00:00",
          "2020-03-05T00:00:00",
          "2020-03-06T00:00:00",
          "2020-03-07T00:00:00",
          "2020-03-08T00:00:00",
          "2020-03-09T00:00:00",
          "2020-03-10T00:00:00",
          "2020-03-11T00:00:00",
          "2020-03-12T00:00:00",
          "2020-03-13T00:00:00",
          "2020-03-14T00:00:00",
          "2020-03-15T00:00:00",
          "2020-03-16T00:00:00",
          "2020-03-17T00:00:00",
          "2020-03-18T00:00:00",
          "2020-03-19T00:00:00",
          "2020-03-20T00:00:00",
          "2020-03-21T00:00:00",
          "2020-03-22T00:00:00",
          "2020-03-23T00:00:00",
          "2020-03-24T00:00:00",
          "2020-03-25T00:00:00",
          "2020-03-26T00:00:00",
          "2020-03-27T00:00:00",
          "2020-03-28T00:00:00",
          "2020-03-29T00:00:00",
          "2020-03-30T00:00:00",
          "2020-03-31T00:00:00",
          "2020-04-01T00:00:00",
          "2020-04-02T00:00:00",
          "2020-04-03T00:00:00",
          "2020-04-04T00:00:00",
          "2020-04-05T00:00:00",
          "2020-04-06T00:00:00",
          "2020-04-07T00:00:00",
          "2020-04-08T00:00:00",
          "2020-04-09T00:00:00",
          "2020-04-10T00:00:00",
          "2020-04-11T00:00:00",
          "2020-04-12T00:00:00",
          "2020-04-13T00:00:00",
          "2020-04-14T00:00:00",
          "2020-04-15T00:00:00",
          "2020-04-16T00:00:00",
          "2020-04-17T00:00:00",
          "2020-04-18T00:00:00",
          "2020-04-19T00:00:00",
          "2020-04-20T00:00:00",
          "2020-04-21T00:00:00",
          "2020-04-22T00:00:00",
          "2020-04-23T00:00:00",
          "2020-04-24T00:00:00",
          "2020-04-25T00:00:00",
          "2020-04-26T00:00:00",
          "2020-04-27T00:00:00",
          "2020-04-28T00:00:00",
          "2020-04-29T00:00:00",
          "2020-04-30T00:00:00",
          "2020-05-01T00:00:00",
          "2020-05-02T00:00:00",
          "2020-05-03T00:00:00",
          "2020-05-04T00:00:00",
          "2020-05-05T00:00:00",
          "2020-05-06T00:00:00",
          "2020-05-07T00:00:00",
          "2020-05-08T00:00:00",
          "2020-05-09T00:00:00",
          "2020-05-10T00:00:00",
          "2020-05-11T00:00:00",
          "2020-05-12T00:00:00",
          "2020-05-13T00:00:00",
          "2020-05-14T00:00:00",
          "2020-05-15T00:00:00",
          "2020-05-16T00:00:00",
          "2020-05-17T00:00:00",
          "2020-05-18T00:00:00",
          "2020-05-19T00:00:00",
          "2020-05-20T00:00:00",
          "2020-05-21T00:00:00",
          "2020-05-22T00:00:00",
          "2020-05-23T00:00:00",
          "2020-05-24T00:00:00",
          "2020-05-25T00:00:00",
          "2020-05-26T00:00:00",
          "2020-05-27T00:00:00",
          "2020-05-28T00:00:00",
          "2020-05-29T00:00:00",
          "2020-05-30T00:00:00",
          "2020-05-31T00:00:00",
          "2020-06-01T00:00:00",
          "2020-06-02T00:00:00",
          "2020-06-03T00:00:00",
          "2020-06-04T00:00:00",
          "2020-06-05T00:00:00",
          "2020-06-06T00:00:00",
          "2020-06-07T00:00:00",
          "2020-06-08T00:00:00",
          "2020-06-09T00:00:00",
          "2020-06-10T00:00:00",
          "2020-06-11T00:00:00",
          "2020-06-12T00:00:00",
          "2020-06-13T00:00:00",
          "2020-06-14T00:00:00",
          "2020-06-15T00:00:00",
          "2020-06-16T00:00:00",
          "2020-06-17T00:00:00",
          "2020-06-18T00:00:00",
          "2020-06-19T00:00:00",
          "2020-06-20T00:00:00",
          "2020-06-21T00:00:00",
          "2020-06-22T00:00:00",
          "2020-06-23T00:00:00",
          "2020-06-24T00:00:00",
          "2020-06-25T00:00:00",
          "2020-06-26T00:00:00",
          "2020-06-27T00:00:00",
          "2020-06-28T00:00:00",
          "2020-06-29T00:00:00",
          "2020-06-30T00:00:00",
          "2020-07-01T00:00:00",
          "2020-07-02T00:00:00",
          "2020-07-03T00:00:00",
          "2020-07-04T00:00:00",
          "2020-07-05T00:00:00",
          "2020-07-06T00:00:00",
          "2020-07-07T00:00:00",
          "2020-07-08T00:00:00",
          "2020-07-09T00:00:00",
          "2020-07-10T00:00:00",
          "2020-07-11T00:00:00",
          "2020-07-12T00:00:00",
          "2020-07-13T00:00:00",
          "2020-07-14T00:00:00",
          "2020-07-15T00:00:00",
          "2020-07-16T00:00:00",
          "2020-07-17T00:00:00",
          "2020-07-18T00:00:00",
          "2020-07-19T00:00:00",
          "2020-07-20T00:00:00",
          "2020-07-21T00:00:00",
          "2020-07-22T00:00:00",
          "2020-07-23T00:00:00",
          "2020-07-24T00:00:00",
          "2020-07-25T00:00:00",
          "2020-07-26T00:00:00",
          "2020-07-27T00:00:00"
         ],
         "y": [
          555,
          654,
          941,
          1434,
          2118,
          2927,
          5578,
          6166,
          8234,
          9927,
          12038,
          16787,
          19887,
          23898,
          27643,
          30802,
          34334,
          37068,
          40095,
          42633,
          44675,
          46561,
          60206,
          66690,
          68765,
          70879,
          72815,
          74609,
          75030,
          75577,
          76206,
          77967,
          78290,
          78854,
          79707,
          80670,
          82034,
          83411,
          85306,
          87690,
          89664,
          92241,
          94540,
          97331,
          101274,
          105312,
          109266,
          113166,
          118190,
          125853,
          131603,
          146008,
          157114,
          168260,
          182919,
          198757,
          218343,
          246261,
          275869,
          308175,
          341585,
          383750,
          424889,
          475706,
          538666,
          603066,
          670723,
          730300,
          794939,
          871355,
          947569,
          1028968,
          1112123,
          1192586,
          1264304,
          1336976,
          1413849,
          1497624,
          1584249,
          1671907,
          1748872,
          1845653,
          1915247,
          1985174,
          2066003,
          2162715,
          2250439,
          2324396,
          2404919,
          2478258,
          2553508,
          2630314,
          2719327,
          2806267,
          2891199,
          2964146,
          3032850,
          3108149,
          3185195,
          3268876,
          3355922,
          3437608,
          3515244,
          3591321,
          3671310,
          3761332,
          3850418,
          3941935,
          4027781,
          4104027,
          4180268,
          4263867,
          4348619,
          4445724,
          4542073,
          4637485,
          4715994,
          4804278,
          4900702,
          5003730,
          5110064,
          5216964,
          5322253,
          5417579,
          5504542,
          5597064,
          5699664,
          5818978,
          5940145,
          6077978,
          6185530,
          6280725,
          6401536,
          6520924,
          6647861,
          6778724,
          6914666,
          7026925,
          7129150,
          7253492,
          7387517,
          7525631,
          7654725,
          7790735,
          7924156,
          8043794,
          8185197,
          8327050,
          8466978,
          8647784,
          8805336,
          8933875,
          9071733,
          9237071,
          9408254,
          9586141,
          9777487,
          9955597,
          10117227,
          10275799,
          10449697,
          10667386,
          10875091,
          11078585,
          11272152,
          11454847,
          11622190,
          11833034,
          12044836,
          12273063,
          12505640,
          12721968,
          12914636,
          13107415,
          13328867,
          13559984,
          13812525,
          14054563,
          14292198,
          14506845,
          14713623,
          14947078,
          15227725,
          15510481,
          15791645,
          16047190,
          16251796,
          16480485
         ]
        },
        {
         "hoverinfo": "skip",
         "line": {
          "width": 0
         },
         "mode": "lines",
         "type": "scatter",
         "x": [
          "2020-01-22T00:00:00",
          "2020-01-23T00:00:00",
          "2020-01-24T00:00:00",
          "2020-01-25T00:00:00",
          "2020-01-26T00:00:00",
          "2020-01-27T00:00:00",
          "2020-01-28T00:00:00",
          "2020-01-29T00:00:00",
          "2020-01-30T00:00:00",
          "2020-01-31T00:00:00",
          "2020-02-01T00:00:00",
          "2020-02-02T00:00:00",
          "2020-02-03T00:00:00",
          "2020-02-04T00:00:00",
          "2020-02-05T00:00:00",
          "2020-02-06T00:00:00",
          "2020-02-07T00:00:00",
          "2020-02-08T00:00:00",
          "2020-02-09T00:00:00",
          "2020-02-10T00:00:00",
          "2020-02-11T00:00:00",
          "2020-02-12T00:00:00",
          "2020-02-13T00:00:00",
          "2020-02-14T00:00:00",
          "2020-02-15T00:00:00",
          "2020-02-16T00:00:00",
          "2020-02-17T00:00:00",
          "2020-02-18T00:00:00",
          "2020-02-19T00:00:00",
          "2020-02-20T00:00:00",
          "2020-02-21T00:00:00",
          "2020-02-22T00:00:00",
          "2020-02-23T00:00:00",
          "2020-02-24T00:00:00",
          "2020-02-25T00:00:00",
          "2020-02-26T00:00:00",
          "2020-02-27T00:00:00",
          "2020-02-28T00:00:00",
          "2020-02-29T00:00:00",
          "2020-03-01T00:00:00",
          "2020-03-02T00:00:00",
          "2020-03-03T00:00:00",
          "2020-03-04T00:00:00",
          "2020-03-05T00:00:00",
          "2020-03-06T00:00:00",
          "2020-03-07T00:00:00",
          "2020-03-08T00:00:00",
          "2020-03-09T00:00:00",
          "2020-03-10T00:00:00",
          "2020-03-11T00:00:00",
          "2020-03-12T00:00:00",
          "2020-03-13T00:00:00",
          "2020-03-14T00:00:00",
          "2020-03-15T00:00:00",
          "2020-03-16T00:00:00",
          "2020-03-17T00:00:00",
          "2020-03-18T00:00:00",
          "2020-03-19T00:00:00",
          "2020-03-20T00:00:00",
          "2020-03-21T00:00:00",
          "2020-03-22T00:00:00",
          "2020-03-23T00:00:00",
          "2020-03-24T00:00:00",
          "2020-03-25T00:00:00",
          "2020-03-26T00:00:00",
          "2020-03-27T00:00:00",
          "2020-03-28T00:00:00",
          "2020-03-29T00:00:00",
          "2020-03-30T00:00:00",
          "2020-03-31T00:00:00",
          "2020-04-01T00:00:00",
          "2020-04-02T00:00:00",
          "2020-04-03T00:00:00",
          "2020-04-04T00:00:00",
          "2020-04-05T00:00:00",
          "2020-04-06T00:00:00",
          "2020-04-07T00:00:00",
          "2020-04-08T00:00:00",
          "2020-04-09T00:00:00",
          "2020-04-10T00:00:00",
          "2020-04-11T00:00:00",
          "2020-04-12T00:00:00",
          "2020-04-13T00:00:00",
          "2020-04-14T00:00:00",
          "2020-04-15T00:00:00",
          "2020-04-16T00:00:00",
          "2020-04-17T00:00:00",
          "2020-04-18T00:00:00",
          "2020-04-19T00:00:00",
          "2020-04-20T00:00:00",
          "2020-04-21T00:00:00",
          "2020-04-22T00:00:00",
          "2020-04-23T00:00:00",
          "2020-04-24T00:00:00",
          "2020-04-25T00:00:00",
          "2020-04-26T00:00:00",
          "2020-04-27T00:00:00",
          "2020-04-28T00:00:00",
          "2020-04-29T00:00:00",
          "2020-04-30T00:00:00",
          "2020-05-01T00:00:00",
          "2020-05-02T00:00:00",
          "2020-05-03T00:00:00",
          "2020-05-04T00:00:00",
          "2020-05-05T00:00:00",
          "2020-05-06T00:00:00",
          "2020-05-07T00:00:00",
          "2020-05-08T00:00:00",
          "2020-05-09T00:00:00",
          "2020-05-10T00:00:00",
          "2020-05-11T00:00:00",
          "2020-05-12T00:00:00",
          "2020-05-13T00:00:00",
          "2020-05-14T00:00:00",
          "2020-05-15T00:00:00",
          "2020-05-16T00:00:00",
          "2020-05-17T00:00:00",
          "2020-05-18T00:00:00",
          "2020-05-19T00:00:00",
          "2020-05-20T00:00:00",
          "2020-05-21T00:00:00",
          "2020-05-22T00:00:00",
          "2020-05-23T00:00:00",
          "2020-05-24T00:00:00",
          "2020-05-25T00:00:00",
          "2020-05-26T00:00:00",
          "2020-05-27T00:00:00",
          "2020-05-28T00:00:00",
          "2020-05-29T00:00:00",
          "2020-05-30T00:00:00",
          "2020-05-31T00:00:00",
          "2020-06-01T00:00:00",
          "2020-06-02T00:00:00",
          "2020-06-03T00:00:00",
          "2020-06-04T00:00:00",
          "2020-06-05T00:00:00",
          "2020-06-06T00:00:00",
          "2020-06-07T00:00:00",
          "2020-06-08T00:00:00",
          "2020-06-09T00:00:00",
          "2020-06-10T00:00:00",
          "2020-06-11T00:00:00",
          "2020-06-12T00:00:00",
          "2020-06-13T00:00:00",
          "2020-06-14T00:00:00",
          "2020-06-15T00:00:00",
          "2020-06-16T00:00:00",
          "2020-06-17T00:00:00",
          "2020-06-18T00:00:00",
          "2020-06-19T00:00:00",
          "2020-06-20T00:00:00",
          "2020-06-21T00:00:00",
          "2020-06-22T00:00:00",
          "2020-06-23T00:00:00",
          "2020-06-24T00:00:00",
          "2020-06-25T00:00:00",
          "2020-06-26T00:00:00",
          "2020-06-27T00:00:00",
          "2020-06-28T00:00:00",
          "2020-06-29T00:00:00",
          "2020-06-30T00:00:00",
          "2020-07-01T00:00:00",
          "2020-07-02T00:00:00",
          "2020-07-03T00:00:00",
          "2020-07-04T00:00:00",
          "2020-07-05T00:00:00",
          "2020-07-06T00:00:00",
          "2020-07-07T00:00:00",
          "2020-07-08T00:00:00",
          "2020-07-09T00:00:00",
          "2020-07-10T00:00:00",
          "2020-07-11T00:00:00",
          "2020-07-12T00:00:00",
          "2020-07-13T00:00:00",
          "2020-07-14T00:00:00",
          "2020-07-15T00:00:00",
          "2020-07-16T00:00:00",
          "2020-07-17T00:00:00",
          "2020-07-18T00:00:00",
          "2020-07-19T00:00:00",
          "2020-07-20T00:00:00",
          "2020-07-21T00:00:00",
          "2020-07-22T00:00:00",
          "2020-07-23T00:00:00",
          "2020-07-24T00:00:00",
          "2020-07-25T00:00:00",
          "2020-07-26T00:00:00",
          "2020-07-27T00:00:00",
          "2020-07-28T00:00:00",
          "2020-07-29T00:00:00",
          "2020-07-30T00:00:00",
          "2020-07-31T00:00:00",
          "2020-08-01T00:00:00",
          "2020-08-02T00:00:00",
          "2020-08-03T00:00:00"
         ],
         "y": [
          -125949.59915035243,
          -108982.15441594952,
          -87738.3391979201,
          -89224.1284180215,
          -101130.45340981235,
          -99129.15681357306,
          -114006.06039279391,
          -98735.39571053731,
          -88863.849390289,
          -76063.2857005408,
          -71134.85796080377,
          -77623.7611213888,
          -82923.9989769131,
          -89838.20185815831,
          -81270.03684545866,
          -69215.53398261433,
          -66051.33863328057,
          -61359.85481233549,
          -57805.1618388274,
          -62130.602152218635,
          -77289.39900099019,
          -67017.74518515848,
          -56071.39689274752,
          -38945.55747945296,
          -38703.49712974865,
          -34009.26629060157,
          -46919.65440407906,
          -50340.04458475912,
          -51883.35029546153,
          -42220.55588572396,
          -21538.444930671612,
          -19415.907054292453,
          -18897.14923512608,
          -31545.509288207533,
          -41470.39508399388,
          -38145.50642822383,
          -11838.59927074538,
          -6602.975559155237,
          -46.56212307685023,
          -4618.834718806665,
          -9784.47698441387,
          -25059.6795458767,
          -20361.60598976563,
          4672.208131334279,
          16147.992554806093,
          30105.378939769926,
          26174.70384278433,
          12517.943830508995,
          6330.922208849144,
          16790.44139230213,
          33737.388809224845,
          48143.34543250257,
          59635.760103601475,
          65688.31889278938,
          67681.28942408387,
          73440.4167032826,
          103923.3407199872,
          136601.3391464925,
          184055.21777222314,
          212385.73077223104,
          240590.05919295616,
          275090.1552423128,
          313318.733019203,
          371357.6897411994,
          445754.3956909284,
          495274.29831274337,
          558083.5027879792,
          633495.7282497837,
          695276.2326648582,
          758672.4459977975,
          845220.556249804,
          927199.7391224517,
          1015904.2158754524,
          1098422.9570458182,
          1173613.429326654,
          1237360.0507508868,
          1304209.9121907835,
          1388948.0443022058,
          1494527.8422863712,
          1581842.3825144928,
          1652994.6102875986,
          1732926.4177736018,
          1808734.701819142,
          1873669.7881644801,
          1949767.7317519744,
          2047036.8097862515,
          2134624.150837817,
          2220365.4888079497,
          2298181.054589303,
          2365409.8647834407,
          2431298.686515191,
          2515898.2445758223,
          2610803.8259276845,
          2702067.4522083867,
          2788038.2346047554,
          2854578.8706202335,
          2930026.556929358,
          2997823.03955925,
          3077943.4870561245,
          3176556.9728551037,
          3268117.378097583,
          3355919.822396013,
          3425502.9679992935,
          3492845.764485889,
          3568525.8440318415,
          3651422.0569305876,
          3740311.937560682,
          3832587.3866985026,
          3923625.772642393,
          4006252.5241044047,
          4080027.6074046846,
          4152746.0543830963,
          4239846.915515014,
          4326908.517866075,
          4431951.609592814,
          4531028.239354736,
          4622425.755714607,
          4703389.153694727,
          4787061.697906246,
          4887361.749146486,
          5002600.098895647,
          5107198.197766752,
          5214951.914674427,
          5322740.983245835,
          5411471.478355584,
          5503346.931384032,
          5621223.743567394,
          5755076.9911155775,
          5865221.570676108,
          5998153.146369079,
          6109026.598925367,
          6211290.294427237,
          6305537.307828048,
          6427754.160614884,
          6560259.738273519,
          6682172.873796784,
          6799666.253239638,
          6913149.525831716,
          7019568.286277057,
          7117190.3489255905,
          7237302.704678555,
          7364476.987736989,
          7489397.003484204,
          7603020.107467608,
          7717588.862283,
          7811538.476673886,
          7913940.074254007,
          8035986.813322335,
          8152924.851087706,
          8278180.407657921,
          8489012.930716865,
          8682279.563875176,
          8881447.078673137,
          9075128.783454731,
          9284171.72300633,
          9490473.150185103,
          9704864.286183769,
          9914856.790313834,
          10118201.902948663,
          10315026.809595736,
          10502798.075276446,
          10713233.992538761,
          10931904.678657394,
          11143653.259923944,
          11347808.027877327,
          11543176.82856158,
          11742926.045554407,
          11932231.102550702,
          12144325.397980394,
          12355943.127007043,
          12569680.1541512,
          12784002.531802936,
          12978758.238457404,
          13167091.03533279,
          13358206.24692502,
          13575129.137247274,
          13795001.852200424,
          13999254.599090556,
          14204053.973151486,
          14408416.918008404,
          14597558.652596278,
          14791471.527942361,
          15004520.730079282,
          15217702.422084171,
          15430531.160589159,
          15643298.082416385,
          15840596.666701976,
          16030328.202802975,
          16224202.106783763,
          16427900.920761548,
          16644987.241148941,
          16849820.866226017,
          17062252.625088602,
          17251917.592519697,
          17441454.664043702
         ]
        },
        {
         "fill": "tonexty",
         "fillcolor": "rgba(0, 114, 178, 0.2)",
         "line": {
          "color": "#0072B2",
          "width": 2
         },
         "mode": "lines",
         "name": "Predicted",
         "type": "scatter",
         "x": [
          "2020-01-22T00:00:00",
          "2020-01-23T00:00:00",
          "2020-01-24T00:00:00",
          "2020-01-25T00:00:00",
          "2020-01-26T00:00:00",
          "2020-01-27T00:00:00",
          "2020-01-28T00:00:00",
          "2020-01-29T00:00:00",
          "2020-01-30T00:00:00",
          "2020-01-31T00:00:00",
          "2020-02-01T00:00:00",
          "2020-02-02T00:00:00",
          "2020-02-03T00:00:00",
          "2020-02-04T00:00:00",
          "2020-02-05T00:00:00",
          "2020-02-06T00:00:00",
          "2020-02-07T00:00:00",
          "2020-02-08T00:00:00",
          "2020-02-09T00:00:00",
          "2020-02-10T00:00:00",
          "2020-02-11T00:00:00",
          "2020-02-12T00:00:00",
          "2020-02-13T00:00:00",
          "2020-02-14T00:00:00",
          "2020-02-15T00:00:00",
          "2020-02-16T00:00:00",
          "2020-02-17T00:00:00",
          "2020-02-18T00:00:00",
          "2020-02-19T00:00:00",
          "2020-02-20T00:00:00",
          "2020-02-21T00:00:00",
          "2020-02-22T00:00:00",
          "2020-02-23T00:00:00",
          "2020-02-24T00:00:00",
          "2020-02-25T00:00:00",
          "2020-02-26T00:00:00",
          "2020-02-27T00:00:00",
          "2020-02-28T00:00:00",
          "2020-02-29T00:00:00",
          "2020-03-01T00:00:00",
          "2020-03-02T00:00:00",
          "2020-03-03T00:00:00",
          "2020-03-04T00:00:00",
          "2020-03-05T00:00:00",
          "2020-03-06T00:00:00",
          "2020-03-07T00:00:00",
          "2020-03-08T00:00:00",
          "2020-03-09T00:00:00",
          "2020-03-10T00:00:00",
          "2020-03-11T00:00:00",
          "2020-03-12T00:00:00",
          "2020-03-13T00:00:00",
          "2020-03-14T00:00:00",
          "2020-03-15T00:00:00",
          "2020-03-16T00:00:00",
          "2020-03-17T00:00:00",
          "2020-03-18T00:00:00",
          "2020-03-19T00:00:00",
          "2020-03-20T00:00:00",
          "2020-03-21T00:00:00",
          "2020-03-22T00:00:00",
          "2020-03-23T00:00:00",
          "2020-03-24T00:00:00",
          "2020-03-25T00:00:00",
          "2020-03-26T00:00:00",
          "2020-03-27T00:00:00",
          "2020-03-28T00:00:00",
          "2020-03-29T00:00:00",
          "2020-03-30T00:00:00",
          "2020-03-31T00:00:00",
          "2020-04-01T00:00:00",
          "2020-04-02T00:00:00",
          "2020-04-03T00:00:00",
          "2020-04-04T00:00:00",
          "2020-04-05T00:00:00",
          "2020-04-06T00:00:00",
          "2020-04-07T00:00:00",
          "2020-04-08T00:00:00",
          "2020-04-09T00:00:00",
          "2020-04-10T00:00:00",
          "2020-04-11T00:00:00",
          "2020-04-12T00:00:00",
          "2020-04-13T00:00:00",
          "2020-04-14T00:00:00",
          "2020-04-15T00:00:00",
          "2020-04-16T00:00:00",
          "2020-04-17T00:00:00",
          "2020-04-18T00:00:00",
          "2020-04-19T00:00:00",
          "2020-04-20T00:00:00",
          "2020-04-21T00:00:00",
          "2020-04-22T00:00:00",
          "2020-04-23T00:00:00",
          "2020-04-24T00:00:00",
          "2020-04-25T00:00:00",
          "2020-04-26T00:00:00",
          "2020-04-27T00:00:00",
          "2020-04-28T00:00:00",
          "2020-04-29T00:00:00",
          "2020-04-30T00:00:00",
          "2020-05-01T00:00:00",
          "2020-05-02T00:00:00",
          "2020-05-03T00:00:00",
          "2020-05-04T00:00:00",
          "2020-05-05T00:00:00",
          "2020-05-06T00:00:00",
          "2020-05-07T00:00:00",
          "2020-05-08T00:00:00",
          "2020-05-09T00:00:00",
          "2020-05-10T00:00:00",
          "2020-05-11T00:00:00",
          "2020-05-12T00:00:00",
          "2020-05-13T00:00:00",
          "2020-05-14T00:00:00",
          "2020-05-15T00:00:00",
          "2020-05-16T00:00:00",
          "2020-05-17T00:00:00",
          "2020-05-18T00:00:00",
          "2020-05-19T00:00:00",
          "2020-05-20T00:00:00",
          "2020-05-21T00:00:00",
          "2020-05-22T00:00:00",
          "2020-05-23T00:00:00",
          "2020-05-24T00:00:00",
          "2020-05-25T00:00:00",
          "2020-05-26T00:00:00",
          "2020-05-27T00:00:00",
          "2020-05-28T00:00:00",
          "2020-05-29T00:00:00",
          "2020-05-30T00:00:00",
          "2020-05-31T00:00:00",
          "2020-06-01T00:00:00",
          "2020-06-02T00:00:00",
          "2020-06-03T00:00:00",
          "2020-06-04T00:00:00",
          "2020-06-05T00:00:00",
          "2020-06-06T00:00:00",
          "2020-06-07T00:00:00",
          "2020-06-08T00:00:00",
          "2020-06-09T00:00:00",
          "2020-06-10T00:00:00",
          "2020-06-11T00:00:00",
          "2020-06-12T00:00:00",
          "2020-06-13T00:00:00",
          "2020-06-14T00:00:00",
          "2020-06-15T00:00:00",
          "2020-06-16T00:00:00",
          "2020-06-17T00:00:00",
          "2020-06-18T00:00:00",
          "2020-06-19T00:00:00",
          "2020-06-20T00:00:00",
          "2020-06-21T00:00:00",
          "2020-06-22T00:00:00",
          "2020-06-23T00:00:00",
          "2020-06-24T00:00:00",
          "2020-06-25T00:00:00",
          "2020-06-26T00:00:00",
          "2020-06-27T00:00:00",
          "2020-06-28T00:00:00",
          "2020-06-29T00:00:00",
          "2020-06-30T00:00:00",
          "2020-07-01T00:00:00",
          "2020-07-02T00:00:00",
          "2020-07-03T00:00:00",
          "2020-07-04T00:00:00",
          "2020-07-05T00:00:00",
          "2020-07-06T00:00:00",
          "2020-07-07T00:00:00",
          "2020-07-08T00:00:00",
          "2020-07-09T00:00:00",
          "2020-07-10T00:00:00",
          "2020-07-11T00:00:00",
          "2020-07-12T00:00:00",
          "2020-07-13T00:00:00",
          "2020-07-14T00:00:00",
          "2020-07-15T00:00:00",
          "2020-07-16T00:00:00",
          "2020-07-17T00:00:00",
          "2020-07-18T00:00:00",
          "2020-07-19T00:00:00",
          "2020-07-20T00:00:00",
          "2020-07-21T00:00:00",
          "2020-07-22T00:00:00",
          "2020-07-23T00:00:00",
          "2020-07-24T00:00:00",
          "2020-07-25T00:00:00",
          "2020-07-26T00:00:00",
          "2020-07-27T00:00:00",
          "2020-07-28T00:00:00",
          "2020-07-29T00:00:00",
          "2020-07-30T00:00:00",
          "2020-07-31T00:00:00",
          "2020-08-01T00:00:00",
          "2020-08-02T00:00:00",
          "2020-08-03T00:00:00"
         ],
         "y": [
          -20342.39602440071,
          -7746.6254115650045,
          6123.967439872916,
          12379.3840884669,
          8615.766110983044,
          1941.6981105030136,
          -10007.605082897224,
          -1523.2414655555785,
          11072.520940600538,
          24943.105585330693,
          31198.514027257334,
          27434.887843101897,
          20760.811635987233,
          8811.499205292115,
          17295.861792092597,
          29891.62316763682,
          43762.20678186322,
          50017.614193230795,
          46253.98697848297,
          39579.91043872663,
          27630.598705968194,
          36114.96199067193,
          48710.72406411299,
          62581.30837624948,
          68836.71648551412,
          65073.088176049714,
          58399.00984364709,
          46449.69631825677,
          54934.057810327635,
          67529.81809116974,
          81400.40061063683,
          87655.80864451655,
          83892.18205229759,
          77218.1054371295,
          65268.793628998275,
          73753.15683833427,
          86348.91883636096,
          100219.50649389745,
          106474.91794853235,
          102711.29477710865,
          96037.22158268408,
          84087.91319532158,
          92572.27982539512,
          105850.75682648858,
          120404.05606628268,
          127342.17910315953,
          124261.26751398844,
          118269.90590186177,
          107003.30909670633,
          119881.8013441441,
          136871.69238031917,
          155136.4056551946,
          165785.9427271793,
          166416.44517308107,
          164136.49759605655,
          176591.44380594546,
          209480.06503333297,
          246480.0850494573,
          284754.9273042673,
          315414.5933562124,
          336055.2247820594,
          380470.5722445925,
          419610.6845141188,
          479184.47180110076,
          542869.6578769073,
          607829.6661913213,
          665174.4983028808,
          735005.4996925514,
          801926.051059278,
          863571.3672330319,
          945650.3584242008,
          1031840.7484042009,
          1119305.9606228257,
          1202962.3012522853,
          1276599.6072556674,
          1347326.463236061,
          1412778.0840235183,
          1498663.3798284023,
          1588898.3082052162,
          1680408.0588206605,
          1764302.6332332082,
          1838178.1730197063,
          1909143.2627832084,
          1974833.1173537904,
          2061028.5827605985,
          2151335.4469561647,
          2242917.1333904364,
          2326883.6436218107,
          2400831.1192270922,
          2471868.144809383,
          2537629.9367530146,
          2623825.4037140408,
          2714132.2694638316,
          2805713.9574523307,
          2889680.469237903,
          2963627.946397412,
          3034860.365987884,
          3100817.55038536,
          3187208.4098002864,
          3277710.6680039787,
          3369487.748446337,
          3453649.6526858513,
          3528809.8881962746,
          3601059.6736837556,
          3668034.223978262,
          3755442.4492902257,
          3846962.0733909397,
          3939756.519730319,
          4028465.266398011,
          4107154.978439582,
          4182934.2404582384,
          4253438.26728392,
          4344375.9691270245,
          4439425.069758936,
          4543886.245317879,
          4640732.244673961,
          4727559.209403922,
          4811475.724111018,
          4890117.003625033,
          4989191.958156538,
          5102825.176348146,
          5217733.21677835,
          5325026.081005705,
          5422299.910606983,
          5516663.290185324,
          5605751.434570634,
          5726934.91566418,
          5852229.79554649,
          5978799.497667458,
          6097754.023585574,
          6206689.514877605,
          6312714.556146698,
          6413464.407893531,
          6534647.934657864,
          6659942.860210948,
          6786512.6080026915,
          6905467.179591568,
          7014402.71655436,
          7120427.802299048,
          7221177.6528507415,
          7342361.178419901,
          7467656.102777801,
          7594225.849374364,
          7713180.419768086,
          7819375.012926707,
          7922659.156062333,
          8020668.064005004,
          8139110.646965148,
          8261664.62871403,
          8385493.432701566,
          8593301.542093204,
          8791090.616858764,
          8985969.241601335,
          9175572.631150974,
          9385609.69571807,
          9599758.159073858,
          9815181.444668394,
          10022989.554060016,
          10220778.628825588,
          10415657.253568146,
          10605260.643117787,
          10815297.707684858,
          11029446.171040695,
          11244869.45663523,
          11452677.566026853,
          11650466.64079239,
          11845345.265535016,
          12034948.655084604,
          12244985.719651693,
          12459134.183007514,
          12674557.468602048,
          12882365.577993667,
          13080154.652759215,
          13275033.27750183,
          13464636.667051423,
          13674673.731618516,
          13888822.194974363,
          14104245.480568849,
          14312053.5899605,
          14509842.66472604,
          14704721.289468637,
          14894324.679018237,
          15104361.743585315,
          15318510.206941187,
          15533933.492535677,
          15741741.601927316,
          15939530.676692849,
          16134409.301435456,
          16324012.690985084,
          16534049.75555213,
          16748198.218908012,
          16963621.504502513,
          17171429.613894142,
          17369218.6886597,
          17564097.313402258
         ]
        },
        {
         "fill": "tonexty",
         "fillcolor": "rgba(0, 114, 178, 0.2)",
         "hoverinfo": "skip",
         "line": {
          "width": 0
         },
         "mode": "lines",
         "type": "scatter",
         "x": [
          "2020-01-22T00:00:00",
          "2020-01-23T00:00:00",
          "2020-01-24T00:00:00",
          "2020-01-25T00:00:00",
          "2020-01-26T00:00:00",
          "2020-01-27T00:00:00",
          "2020-01-28T00:00:00",
          "2020-01-29T00:00:00",
          "2020-01-30T00:00:00",
          "2020-01-31T00:00:00",
          "2020-02-01T00:00:00",
          "2020-02-02T00:00:00",
          "2020-02-03T00:00:00",
          "2020-02-04T00:00:00",
          "2020-02-05T00:00:00",
          "2020-02-06T00:00:00",
          "2020-02-07T00:00:00",
          "2020-02-08T00:00:00",
          "2020-02-09T00:00:00",
          "2020-02-10T00:00:00",
          "2020-02-11T00:00:00",
          "2020-02-12T00:00:00",
          "2020-02-13T00:00:00",
          "2020-02-14T00:00:00",
          "2020-02-15T00:00:00",
          "2020-02-16T00:00:00",
          "2020-02-17T00:00:00",
          "2020-02-18T00:00:00",
          "2020-02-19T00:00:00",
          "2020-02-20T00:00:00",
          "2020-02-21T00:00:00",
          "2020-02-22T00:00:00",
          "2020-02-23T00:00:00",
          "2020-02-24T00:00:00",
          "2020-02-25T00:00:00",
          "2020-02-26T00:00:00",
          "2020-02-27T00:00:00",
          "2020-02-28T00:00:00",
          "2020-02-29T00:00:00",
          "2020-03-01T00:00:00",
          "2020-03-02T00:00:00",
          "2020-03-03T00:00:00",
          "2020-03-04T00:00:00",
          "2020-03-05T00:00:00",
          "2020-03-06T00:00:00",
          "2020-03-07T00:00:00",
          "2020-03-08T00:00:00",
          "2020-03-09T00:00:00",
          "2020-03-10T00:00:00",
          "2020-03-11T00:00:00",
          "2020-03-12T00:00:00",
          "2020-03-13T00:00:00",
          "2020-03-14T00:00:00",
          "2020-03-15T00:00:00",
          "2020-03-16T00:00:00",
          "2020-03-17T00:00:00",
          "2020-03-18T00:00:00",
          "2020-03-19T00:00:00",
          "2020-03-20T00:00:00",
          "2020-03-21T00:00:00",
          "2020-03-22T00:00:00",
          "2020-03-23T00:00:00",
          "2020-03-24T00:00:00",
          "2020-03-25T00:00:00",
          "2020-03-26T00:00:00",
          "2020-03-27T00:00:00",
          "2020-03-28T00:00:00",
          "2020-03-29T00:00:00",
          "2020-03-30T00:00:00",
          "2020-03-31T00:00:00",
          "2020-04-01T00:00:00",
          "2020-04-02T00:00:00",
          "2020-04-03T00:00:00",
          "2020-04-04T00:00:00",
          "2020-04-05T00:00:00",
          "2020-04-06T00:00:00",
          "2020-04-07T00:00:00",
          "2020-04-08T00:00:00",
          "2020-04-09T00:00:00",
          "2020-04-10T00:00:00",
          "2020-04-11T00:00:00",
          "2020-04-12T00:00:00",
          "2020-04-13T00:00:00",
          "2020-04-14T00:00:00",
          "2020-04-15T00:00:00",
          "2020-04-16T00:00:00",
          "2020-04-17T00:00:00",
          "2020-04-18T00:00:00",
          "2020-04-19T00:00:00",
          "2020-04-20T00:00:00",
          "2020-04-21T00:00:00",
          "2020-04-22T00:00:00",
          "2020-04-23T00:00:00",
          "2020-04-24T00:00:00",
          "2020-04-25T00:00:00",
          "2020-04-26T00:00:00",
          "2020-04-27T00:00:00",
          "2020-04-28T00:00:00",
          "2020-04-29T00:00:00",
          "2020-04-30T00:00:00",
          "2020-05-01T00:00:00",
          "2020-05-02T00:00:00",
          "2020-05-03T00:00:00",
          "2020-05-04T00:00:00",
          "2020-05-05T00:00:00",
          "2020-05-06T00:00:00",
          "2020-05-07T00:00:00",
          "2020-05-08T00:00:00",
          "2020-05-09T00:00:00",
          "2020-05-10T00:00:00",
          "2020-05-11T00:00:00",
          "2020-05-12T00:00:00",
          "2020-05-13T00:00:00",
          "2020-05-14T00:00:00",
          "2020-05-15T00:00:00",
          "2020-05-16T00:00:00",
          "2020-05-17T00:00:00",
          "2020-05-18T00:00:00",
          "2020-05-19T00:00:00",
          "2020-05-20T00:00:00",
          "2020-05-21T00:00:00",
          "2020-05-22T00:00:00",
          "2020-05-23T00:00:00",
          "2020-05-24T00:00:00",
          "2020-05-25T00:00:00",
          "2020-05-26T00:00:00",
          "2020-05-27T00:00:00",
          "2020-05-28T00:00:00",
          "2020-05-29T00:00:00",
          "2020-05-30T00:00:00",
          "2020-05-31T00:00:00",
          "2020-06-01T00:00:00",
          "2020-06-02T00:00:00",
          "2020-06-03T00:00:00",
          "2020-06-04T00:00:00",
          "2020-06-05T00:00:00",
          "2020-06-06T00:00:00",
          "2020-06-07T00:00:00",
          "2020-06-08T00:00:00",
          "2020-06-09T00:00:00",
          "2020-06-10T00:00:00",
          "2020-06-11T00:00:00",
          "2020-06-12T00:00:00",
          "2020-06-13T00:00:00",
          "2020-06-14T00:00:00",
          "2020-06-15T00:00:00",
          "2020-06-16T00:00:00",
          "2020-06-17T00:00:00",
          "2020-06-18T00:00:00",
          "2020-06-19T00:00:00",
          "2020-06-20T00:00:00",
          "2020-06-21T00:00:00",
          "2020-06-22T00:00:00",
          "2020-06-23T00:00:00",
          "2020-06-24T00:00:00",
          "2020-06-25T00:00:00",
          "2020-06-26T00:00:00",
          "2020-06-27T00:00:00",
          "2020-06-28T00:00:00",
          "2020-06-29T00:00:00",
          "2020-06-30T00:00:00",
          "2020-07-01T00:00:00",
          "2020-07-02T00:00:00",
          "2020-07-03T00:00:00",
          "2020-07-04T00:00:00",
          "2020-07-05T00:00:00",
          "2020-07-06T00:00:00",
          "2020-07-07T00:00:00",
          "2020-07-08T00:00:00",
          "2020-07-09T00:00:00",
          "2020-07-10T00:00:00",
          "2020-07-11T00:00:00",
          "2020-07-12T00:00:00",
          "2020-07-13T00:00:00",
          "2020-07-14T00:00:00",
          "2020-07-15T00:00:00",
          "2020-07-16T00:00:00",
          "2020-07-17T00:00:00",
          "2020-07-18T00:00:00",
          "2020-07-19T00:00:00",
          "2020-07-20T00:00:00",
          "2020-07-21T00:00:00",
          "2020-07-22T00:00:00",
          "2020-07-23T00:00:00",
          "2020-07-24T00:00:00",
          "2020-07-25T00:00:00",
          "2020-07-26T00:00:00",
          "2020-07-27T00:00:00",
          "2020-07-28T00:00:00",
          "2020-07-29T00:00:00",
          "2020-07-30T00:00:00",
          "2020-07-31T00:00:00",
          "2020-08-01T00:00:00",
          "2020-08-02T00:00:00",
          "2020-08-03T00:00:00"
         ],
         "y": [
          84860.20234476453,
          99320.08349288683,
          113392.75459826142,
          112457.69019098926,
          106015.98354320953,
          111066.24662294434,
          94295.08673194048,
          104920.93095803713,
          121919.98403466033,
          130923.50780433108,
          129601.66809629051,
          133647.99676542444,
          130362.76921201141,
          113411.2476144712,
          117670.86096063351,
          131851.4788343162,
          147338.5744655015,
          152244.61610829885,
          146641.95073904132,
          140724.17355890357,
          126867.14689409237,
          139900.05469396856,
          155222.4067984276,
          165488.3309414881,
          167003.89088189867,
          169108.4002512306,
          159899.8485305919,
          150989.72922764588,
          160949.25165388454,
          171895.2502270024,
          175316.17178069538,
          186576.3362818183,
          183428.65388607222,
          180617.79543576812,
          161764.49971535022,
          181961.43746035002,
          195055.03929575265,
          211696.12545243508,
          211740.74975804792,
          196035.741033214,
          205837.12621496562,
          184252.2449251507,
          193348.40800794863,
          215017.27800739338,
          226132.59391651183,
          232824.48240627217,
          229489.24046687596,
          219100.40897861277,
          219647.98764146917,
          219094.6836886738,
          241006.65555341606,
          257464.77679305038,
          271080.39030237345,
          275863.7073876402,
          265270.8463513024,
          290472.34217153885,
          315377.80116334395,
          355945.4967969266,
          386612.7820351495,
          413077.1127382748,
          443285.8133387978,
          480676.35901042336,
          526183.8061795873,
          583590.6172086308,
          646176.616793421,
          707485.6081511833,
          767698.439648139,
          843674.3835475792,
          908370.4606765327,
          967146.5772371107,
          1050368.5438500443,
          1131785.218557477,
          1217380.5909804753,
          1302780.9437140315,
          1385568.7948253832,
          1454393.972482771,
          1508599.4732261817,
          1602768.2548901683,
          1692596.350743278,
          1782362.4645854856,
          1867875.6633504755,
          1946616.688706832,
          2015377.5184169128,
          2081693.9801466228,
          2163725.809667571,
          2251050.7456535595,
          2335283.046010893,
          2430664.422275248,
          2501085.401055967,
          2578930.1312663583,
          2645210.911404038,
          2730527.4211986205,
          2821117.370450787,
          2914694.0064416537,
          2990772.9746171944,
          3069724.1180206183,
          3140176.8870981857,
          3203708.679735255,
          3285501.061673516,
          3381769.3314867625,
          3482407.282839059,
          3562597.3196810368,
          3642500.8484617057,
          3708736.835611131,
          3771146.979080572,
          3860615.0383329424,
          3948034.498135613,
          4044887.58185206,
          4125324.659069182,
          4215861.653964882,
          4284120.835144583,
          4364575.636918108,
          4443530.74184547,
          4545593.379478384,
          4654678.457278398,
          4742232.546676432,
          4833388.27375945,
          4913656.3479057625,
          4996772.974669839,
          5095231.625376679,
          5209228.5028235,
          5317744.893735274,
          5427602.663157533,
          5519661.7971935775,
          5626860.053522679,
          5704928.537978208,
          5835566.587903903,
          5960871.894541899,
          6083026.264941458,
          6209303.206599383,
          6306912.294294275,
          6420145.668158053,
          6511221.028860284,
          6642013.583468642,
          6752726.746946988,
          6892469.4908369435,
          7005837.65900876,
          7112557.030271603,
          7222970.958695938,
          7324242.186159033,
          7445649.050196491,
          7573278.295089838,
          7695701.608080678,
          7816617.120738489,
          7935332.767857686,
          8024021.746877994,
          8123795.558747566,
          8249798.861631678,
          8363247.982337713,
          8488525.184009073,
          8705704.827088624,
          8890884.545312624,
          9085363.181801615,
          9277471.587077368,
          9485711.31241512,
          9708772.368822878,
          9923607.231365358,
          10125009.336219667,
          10328368.501083478,
          10519502.853535844,
          10706174.256752867,
          10925538.074153217,
          11141494.066720849,
          11340248.855003502,
          11554262.216983689,
          11751709.309773803,
          11959749.520386053,
          12140844.613782259,
          12356106.37057479,
          12564064.329283658,
          12779319.01301544,
          12987100.803105943,
          13190433.893533787,
          13379482.14731444,
          13565191.87714915,
          13776305.633204753,
          13987653.022900425,
          14209283.517204402,
          14411636.047085436,
          14622281.194399424,
          14805345.187606132,
          14999611.652715975,
          15213974.621219346,
          15422026.833500117,
          15643448.183919776,
          15849424.240157196,
          16044854.4995614,
          16235999.355683746,
          16428407.699076591,
          16636271.447508136,
          16859716.42106946,
          17073847.655579057,
          17276171.213939212,
          17479722.085996743,
          17683228.32212489
         ]
        }
       ],
       "layout": {
        "height": 600,
        "legend": {
         "title": {
          "text": "Legend"
         }
        },
        "showlegend": false,
        "template": {
         "data": {
          "bar": [
           {
            "error_x": {
             "color": "#2a3f5f"
            },
            "error_y": {
             "color": "#2a3f5f"
            },
            "marker": {
             "line": {
              "color": "#E5ECF6",
              "width": 0.5
             },
             "pattern": {
              "fillmode": "overlay",
              "size": 10,
              "solidity": 0.2
             }
            },
            "type": "bar"
           }
          ],
          "barpolar": [
           {
            "marker": {
             "line": {
              "color": "#E5ECF6",
              "width": 0.5
             },
             "pattern": {
              "fillmode": "overlay",
              "size": 10,
              "solidity": 0.2
             }
            },
            "type": "barpolar"
           }
          ],
          "carpet": [
           {
            "aaxis": {
             "endlinecolor": "#2a3f5f",
             "gridcolor": "white",
             "linecolor": "white",
             "minorgridcolor": "white",
             "startlinecolor": "#2a3f5f"
            },
            "baxis": {
             "endlinecolor": "#2a3f5f",
             "gridcolor": "white",
             "linecolor": "white",
             "minorgridcolor": "white",
             "startlinecolor": "#2a3f5f"
            },
            "type": "carpet"
           }
          ],
          "choropleth": [
           {
            "colorbar": {
             "outlinewidth": 0,
             "ticks": ""
            },
            "type": "choropleth"
           }
          ],
          "contour": [
           {
            "colorbar": {
             "outlinewidth": 0,
             "ticks": ""
            },
            "colorscale": [
             [
              0,
              "#0d0887"
             ],
             [
              0.1111111111111111,
              "#46039f"
             ],
             [
              0.2222222222222222,
              "#7201a8"
             ],
             [
              0.3333333333333333,
              "#9c179e"
             ],
             [
              0.4444444444444444,
              "#bd3786"
             ],
             [
              0.5555555555555556,
              "#d8576b"
             ],
             [
              0.6666666666666666,
              "#ed7953"
             ],
             [
              0.7777777777777778,
              "#fb9f3a"
             ],
             [
              0.8888888888888888,
              "#fdca26"
             ],
             [
              1,
              "#f0f921"
             ]
            ],
            "type": "contour"
           }
          ],
          "contourcarpet": [
           {
            "colorbar": {
             "outlinewidth": 0,
             "ticks": ""
            },
            "type": "contourcarpet"
           }
          ],
          "heatmap": [
           {
            "colorbar": {
             "outlinewidth": 0,
             "ticks": ""
            },
            "colorscale": [
             [
              0,
              "#0d0887"
             ],
             [
              0.1111111111111111,
              "#46039f"
             ],
             [
              0.2222222222222222,
              "#7201a8"
             ],
             [
              0.3333333333333333,
              "#9c179e"
             ],
             [
              0.4444444444444444,
              "#bd3786"
             ],
             [
              0.5555555555555556,
              "#d8576b"
             ],
             [
              0.6666666666666666,
              "#ed7953"
             ],
             [
              0.7777777777777778,
              "#fb9f3a"
             ],
             [
              0.8888888888888888,
              "#fdca26"
             ],
             [
              1,
              "#f0f921"
             ]
            ],
            "type": "heatmap"
           }
          ],
          "heatmapgl": [
           {
            "colorbar": {
             "outlinewidth": 0,
             "ticks": ""
            },
            "colorscale": [
             [
              0,
              "#0d0887"
             ],
             [
              0.1111111111111111,
              "#46039f"
             ],
             [
              0.2222222222222222,
              "#7201a8"
             ],
             [
              0.3333333333333333,
              "#9c179e"
             ],
             [
              0.4444444444444444,
              "#bd3786"
             ],
             [
              0.5555555555555556,
              "#d8576b"
             ],
             [
              0.6666666666666666,
              "#ed7953"
             ],
             [
              0.7777777777777778,
              "#fb9f3a"
             ],
             [
              0.8888888888888888,
              "#fdca26"
             ],
             [
              1,
              "#f0f921"
             ]
            ],
            "type": "heatmapgl"
           }
          ],
          "histogram": [
           {
            "marker": {
             "pattern": {
              "fillmode": "overlay",
              "size": 10,
              "solidity": 0.2
             }
            },
            "type": "histogram"
           }
          ],
          "histogram2d": [
           {
            "colorbar": {
             "outlinewidth": 0,
             "ticks": ""
            },
            "colorscale": [
             [
              0,
              "#0d0887"
             ],
             [
              0.1111111111111111,
              "#46039f"
             ],
             [
              0.2222222222222222,
              "#7201a8"
             ],
             [
              0.3333333333333333,
              "#9c179e"
             ],
             [
              0.4444444444444444,
              "#bd3786"
             ],
             [
              0.5555555555555556,
              "#d8576b"
             ],
             [
              0.6666666666666666,
              "#ed7953"
             ],
             [
              0.7777777777777778,
              "#fb9f3a"
             ],
             [
              0.8888888888888888,
              "#fdca26"
             ],
             [
              1,
              "#f0f921"
             ]
            ],
            "type": "histogram2d"
           }
          ],
          "histogram2dcontour": [
           {
            "colorbar": {
             "outlinewidth": 0,
             "ticks": ""
            },
            "colorscale": [
             [
              0,
              "#0d0887"
             ],
             [
              0.1111111111111111,
              "#46039f"
             ],
             [
              0.2222222222222222,
              "#7201a8"
             ],
             [
              0.3333333333333333,
              "#9c179e"
             ],
             [
              0.4444444444444444,
              "#bd3786"
             ],
             [
              0.5555555555555556,
              "#d8576b"
             ],
             [
              0.6666666666666666,
              "#ed7953"
             ],
             [
              0.7777777777777778,
              "#fb9f3a"
             ],
             [
              0.8888888888888888,
              "#fdca26"
             ],
             [
              1,
              "#f0f921"
             ]
            ],
            "type": "histogram2dcontour"
           }
          ],
          "mesh3d": [
           {
            "colorbar": {
             "outlinewidth": 0,
             "ticks": ""
            },
            "type": "mesh3d"
           }
          ],
          "parcoords": [
           {
            "line": {
             "colorbar": {
              "outlinewidth": 0,
              "ticks": ""
             }
            },
            "type": "parcoords"
           }
          ],
          "pie": [
           {
            "automargin": true,
            "type": "pie"
           }
          ],
          "scatter": [
           {
            "fillpattern": {
             "fillmode": "overlay",
             "size": 10,
             "solidity": 0.2
            },
            "type": "scatter"
           }
          ],
          "scatter3d": [
           {
            "line": {
             "colorbar": {
              "outlinewidth": 0,
              "ticks": ""
             }
            },
            "marker": {
             "colorbar": {
              "outlinewidth": 0,
              "ticks": ""
             }
            },
            "type": "scatter3d"
           }
          ],
          "scattercarpet": [
           {
            "marker": {
             "colorbar": {
              "outlinewidth": 0,
              "ticks": ""
             }
            },
            "type": "scattercarpet"
           }
          ],
          "scattergeo": [
           {
            "marker": {
             "colorbar": {
              "outlinewidth": 0,
              "ticks": ""
             }
            },
            "type": "scattergeo"
           }
          ],
          "scattergl": [
           {
            "marker": {
             "colorbar": {
              "outlinewidth": 0,
              "ticks": ""
             }
            },
            "type": "scattergl"
           }
          ],
          "scattermapbox": [
           {
            "marker": {
             "colorbar": {
              "outlinewidth": 0,
              "ticks": ""
             }
            },
            "type": "scattermapbox"
           }
          ],
          "scatterpolar": [
           {
            "marker": {
             "colorbar": {
              "outlinewidth": 0,
              "ticks": ""
             }
            },
            "type": "scatterpolar"
           }
          ],
          "scatterpolargl": [
           {
            "marker": {
             "colorbar": {
              "outlinewidth": 0,
              "ticks": ""
             }
            },
            "type": "scatterpolargl"
           }
          ],
          "scatterternary": [
           {
            "marker": {
             "colorbar": {
              "outlinewidth": 0,
              "ticks": ""
             }
            },
            "type": "scatterternary"
           }
          ],
          "surface": [
           {
            "colorbar": {
             "outlinewidth": 0,
             "ticks": ""
            },
            "colorscale": [
             [
              0,
              "#0d0887"
             ],
             [
              0.1111111111111111,
              "#46039f"
             ],
             [
              0.2222222222222222,
              "#7201a8"
             ],
             [
              0.3333333333333333,
              "#9c179e"
             ],
             [
              0.4444444444444444,
              "#bd3786"
             ],
             [
              0.5555555555555556,
              "#d8576b"
             ],
             [
              0.6666666666666666,
              "#ed7953"
             ],
             [
              0.7777777777777778,
              "#fb9f3a"
             ],
             [
              0.8888888888888888,
              "#fdca26"
             ],
             [
              1,
              "#f0f921"
             ]
            ],
            "type": "surface"
           }
          ],
          "table": [
           {
            "cells": {
             "fill": {
              "color": "#EBF0F8"
             },
             "line": {
              "color": "white"
             }
            },
            "header": {
             "fill": {
              "color": "#C8D4E3"
             },
             "line": {
              "color": "white"
             }
            },
            "type": "table"
           }
          ]
         },
         "layout": {
          "annotationdefaults": {
           "arrowcolor": "#2a3f5f",
           "arrowhead": 0,
           "arrowwidth": 1
          },
          "autotypenumbers": "strict",
          "coloraxis": {
           "colorbar": {
            "outlinewidth": 0,
            "ticks": ""
           }
          },
          "colorscale": {
           "diverging": [
            [
             0,
             "#8e0152"
            ],
            [
             0.1,
             "#c51b7d"
            ],
            [
             0.2,
             "#de77ae"
            ],
            [
             0.3,
             "#f1b6da"
            ],
            [
             0.4,
             "#fde0ef"
            ],
            [
             0.5,
             "#f7f7f7"
            ],
            [
             0.6,
             "#e6f5d0"
            ],
            [
             0.7,
             "#b8e186"
            ],
            [
             0.8,
             "#7fbc41"
            ],
            [
             0.9,
             "#4d9221"
            ],
            [
             1,
             "#276419"
            ]
           ],
           "sequential": [
            [
             0,
             "#0d0887"
            ],
            [
             0.1111111111111111,
             "#46039f"
            ],
            [
             0.2222222222222222,
             "#7201a8"
            ],
            [
             0.3333333333333333,
             "#9c179e"
            ],
            [
             0.4444444444444444,
             "#bd3786"
            ],
            [
             0.5555555555555556,
             "#d8576b"
            ],
            [
             0.6666666666666666,
             "#ed7953"
            ],
            [
             0.7777777777777778,
             "#fb9f3a"
            ],
            [
             0.8888888888888888,
             "#fdca26"
            ],
            [
             1,
             "#f0f921"
            ]
           ],
           "sequentialminus": [
            [
             0,
             "#0d0887"
            ],
            [
             0.1111111111111111,
             "#46039f"
            ],
            [
             0.2222222222222222,
             "#7201a8"
            ],
            [
             0.3333333333333333,
             "#9c179e"
            ],
            [
             0.4444444444444444,
             "#bd3786"
            ],
            [
             0.5555555555555556,
             "#d8576b"
            ],
            [
             0.6666666666666666,
             "#ed7953"
            ],
            [
             0.7777777777777778,
             "#fb9f3a"
            ],
            [
             0.8888888888888888,
             "#fdca26"
            ],
            [
             1,
             "#f0f921"
            ]
           ]
          },
          "colorway": [
           "#636efa",
           "#EF553B",
           "#00cc96",
           "#ab63fa",
           "#FFA15A",
           "#19d3f3",
           "#FF6692",
           "#B6E880",
           "#FF97FF",
           "#FECB52"
          ],
          "font": {
           "color": "#2a3f5f"
          },
          "geo": {
           "bgcolor": "white",
           "lakecolor": "white",
           "landcolor": "#E5ECF6",
           "showlakes": true,
           "showland": true,
           "subunitcolor": "white"
          },
          "hoverlabel": {
           "align": "left"
          },
          "hovermode": "closest",
          "mapbox": {
           "style": "light"
          },
          "paper_bgcolor": "white",
          "plot_bgcolor": "#E5ECF6",
          "polar": {
           "angularaxis": {
            "gridcolor": "white",
            "linecolor": "white",
            "ticks": ""
           },
           "bgcolor": "#E5ECF6",
           "radialaxis": {
            "gridcolor": "white",
            "linecolor": "white",
            "ticks": ""
           }
          },
          "scene": {
           "xaxis": {
            "backgroundcolor": "#E5ECF6",
            "gridcolor": "white",
            "gridwidth": 2,
            "linecolor": "white",
            "showbackground": true,
            "ticks": "",
            "zerolinecolor": "white"
           },
           "yaxis": {
            "backgroundcolor": "#E5ECF6",
            "gridcolor": "white",
            "gridwidth": 2,
            "linecolor": "white",
            "showbackground": true,
            "ticks": "",
            "zerolinecolor": "white"
           },
           "zaxis": {
            "backgroundcolor": "#E5ECF6",
            "gridcolor": "white",
            "gridwidth": 2,
            "linecolor": "white",
            "showbackground": true,
            "ticks": "",
            "zerolinecolor": "white"
           }
          },
          "shapedefaults": {
           "line": {
            "color": "#2a3f5f"
           }
          },
          "ternary": {
           "aaxis": {
            "gridcolor": "white",
            "linecolor": "white",
            "ticks": ""
           },
           "baxis": {
            "gridcolor": "white",
            "linecolor": "white",
            "ticks": ""
           },
           "bgcolor": "#E5ECF6",
           "caxis": {
            "gridcolor": "white",
            "linecolor": "white",
            "ticks": ""
           }
          },
          "title": {
           "x": 0.05
          },
          "xaxis": {
           "automargin": true,
           "gridcolor": "white",
           "linecolor": "white",
           "ticks": "",
           "title": {
            "standoff": 15
           },
           "zerolinecolor": "white",
           "zerolinewidth": 2
          },
          "yaxis": {
           "automargin": true,
           "gridcolor": "white",
           "linecolor": "white",
           "ticks": "",
           "title": {
            "standoff": 15
           },
           "zerolinecolor": "white",
           "zerolinewidth": 2
          }
         }
        },
        "title": {
         "text": "Interactive Forecast of COVID-19 Global Cases"
        },
        "width": 900,
        "xaxis": {
         "rangeselector": {
          "buttons": [
           {
            "count": 7,
            "label": "1w",
            "step": "day",
            "stepmode": "backward"
           },
           {
            "count": 1,
            "label": "1m",
            "step": "month",
            "stepmode": "backward"
           },
           {
            "count": 6,
            "label": "6m",
            "step": "month",
            "stepmode": "backward"
           },
           {
            "count": 1,
            "label": "1y",
            "step": "year",
            "stepmode": "backward"
           },
           {
            "step": "all"
           }
          ]
         },
         "rangeslider": {
          "visible": true
         },
         "title": {
          "text": "Date"
         },
         "type": "date"
        },
        "yaxis": {
         "title": {
          "text": "Number of Cases"
         }
        }
       }
      },
      "text/html": [
       "<div>                            <div id=\"3a27afe8-1263-406c-bed9-7cf081bf8f0c\" class=\"plotly-graph-div\" style=\"height:600px; width:900px;\"></div>            <script type=\"text/javascript\">                require([\"plotly\"], function(Plotly) {                    window.PLOTLYENV=window.PLOTLYENV || {};                                    if (document.getElementById(\"3a27afe8-1263-406c-bed9-7cf081bf8f0c\")) {                    Plotly.newPlot(                        \"3a27afe8-1263-406c-bed9-7cf081bf8f0c\",                        [{\"marker\":{\"color\":\"black\",\"size\":4},\"mode\":\"markers\",\"name\":\"Actual\",\"x\":[\"2020-01-22T00:00:00\",\"2020-01-23T00:00:00\",\"2020-01-24T00:00:00\",\"2020-01-25T00:00:00\",\"2020-01-26T00:00:00\",\"2020-01-27T00:00:00\",\"2020-01-28T00:00:00\",\"2020-01-29T00:00:00\",\"2020-01-30T00:00:00\",\"2020-01-31T00:00:00\",\"2020-02-01T00:00:00\",\"2020-02-02T00:00:00\",\"2020-02-03T00:00:00\",\"2020-02-04T00:00:00\",\"2020-02-05T00:00:00\",\"2020-02-06T00:00:00\",\"2020-02-07T00:00:00\",\"2020-02-08T00:00:00\",\"2020-02-09T00:00:00\",\"2020-02-10T00:00:00\",\"2020-02-11T00:00:00\",\"2020-02-12T00:00:00\",\"2020-02-13T00:00:00\",\"2020-02-14T00:00:00\",\"2020-02-15T00:00:00\",\"2020-02-16T00:00:00\",\"2020-02-17T00:00:00\",\"2020-02-18T00:00:00\",\"2020-02-19T00:00:00\",\"2020-02-20T00:00:00\",\"2020-02-21T00:00:00\",\"2020-02-22T00:00:00\",\"2020-02-23T00:00:00\",\"2020-02-24T00:00:00\",\"2020-02-25T00:00:00\",\"2020-02-26T00:00:00\",\"2020-02-27T00:00:00\",\"2020-02-28T00:00:00\",\"2020-02-29T00:00:00\",\"2020-03-01T00:00:00\",\"2020-03-02T00:00:00\",\"2020-03-03T00:00:00\",\"2020-03-04T00:00:00\",\"2020-03-05T00:00:00\",\"2020-03-06T00:00:00\",\"2020-03-07T00:00:00\",\"2020-03-08T00:00:00\",\"2020-03-09T00:00:00\",\"2020-03-10T00:00:00\",\"2020-03-11T00:00:00\",\"2020-03-12T00:00:00\",\"2020-03-13T00:00:00\",\"2020-03-14T00:00:00\",\"2020-03-15T00:00:00\",\"2020-03-16T00:00:00\",\"2020-03-17T00:00:00\",\"2020-03-18T00:00:00\",\"2020-03-19T00:00:00\",\"2020-03-20T00:00:00\",\"2020-03-21T00:00:00\",\"2020-03-22T00:00:00\",\"2020-03-23T00:00:00\",\"2020-03-24T00:00:00\",\"2020-03-25T00:00:00\",\"2020-03-26T00:00:00\",\"2020-03-27T00:00:00\",\"2020-03-28T00:00:00\",\"2020-03-29T00:00:00\",\"2020-03-30T00:00:00\",\"2020-03-31T00:00:00\",\"2020-04-01T00:00:00\",\"2020-04-02T00:00:00\",\"2020-04-03T00:00:00\",\"2020-04-04T00:00:00\",\"2020-04-05T00:00:00\",\"2020-04-06T00:00:00\",\"2020-04-07T00:00:00\",\"2020-04-08T00:00:00\",\"2020-04-09T00:00:00\",\"2020-04-10T00:00:00\",\"2020-04-11T00:00:00\",\"2020-04-12T00:00:00\",\"2020-04-13T00:00:00\",\"2020-04-14T00:00:00\",\"2020-04-15T00:00:00\",\"2020-04-16T00:00:00\",\"2020-04-17T00:00:00\",\"2020-04-18T00:00:00\",\"2020-04-19T00:00:00\",\"2020-04-20T00:00:00\",\"2020-04-21T00:00:00\",\"2020-04-22T00:00:00\",\"2020-04-23T00:00:00\",\"2020-04-24T00:00:00\",\"2020-04-25T00:00:00\",\"2020-04-26T00:00:00\",\"2020-04-27T00:00:00\",\"2020-04-28T00:00:00\",\"2020-04-29T00:00:00\",\"2020-04-30T00:00:00\",\"2020-05-01T00:00:00\",\"2020-05-02T00:00:00\",\"2020-05-03T00:00:00\",\"2020-05-04T00:00:00\",\"2020-05-05T00:00:00\",\"2020-05-06T00:00:00\",\"2020-05-07T00:00:00\",\"2020-05-08T00:00:00\",\"2020-05-09T00:00:00\",\"2020-05-10T00:00:00\",\"2020-05-11T00:00:00\",\"2020-05-12T00:00:00\",\"2020-05-13T00:00:00\",\"2020-05-14T00:00:00\",\"2020-05-15T00:00:00\",\"2020-05-16T00:00:00\",\"2020-05-17T00:00:00\",\"2020-05-18T00:00:00\",\"2020-05-19T00:00:00\",\"2020-05-20T00:00:00\",\"2020-05-21T00:00:00\",\"2020-05-22T00:00:00\",\"2020-05-23T00:00:00\",\"2020-05-24T00:00:00\",\"2020-05-25T00:00:00\",\"2020-05-26T00:00:00\",\"2020-05-27T00:00:00\",\"2020-05-28T00:00:00\",\"2020-05-29T00:00:00\",\"2020-05-30T00:00:00\",\"2020-05-31T00:00:00\",\"2020-06-01T00:00:00\",\"2020-06-02T00:00:00\",\"2020-06-03T00:00:00\",\"2020-06-04T00:00:00\",\"2020-06-05T00:00:00\",\"2020-06-06T00:00:00\",\"2020-06-07T00:00:00\",\"2020-06-08T00:00:00\",\"2020-06-09T00:00:00\",\"2020-06-10T00:00:00\",\"2020-06-11T00:00:00\",\"2020-06-12T00:00:00\",\"2020-06-13T00:00:00\",\"2020-06-14T00:00:00\",\"2020-06-15T00:00:00\",\"2020-06-16T00:00:00\",\"2020-06-17T00:00:00\",\"2020-06-18T00:00:00\",\"2020-06-19T00:00:00\",\"2020-06-20T00:00:00\",\"2020-06-21T00:00:00\",\"2020-06-22T00:00:00\",\"2020-06-23T00:00:00\",\"2020-06-24T00:00:00\",\"2020-06-25T00:00:00\",\"2020-06-26T00:00:00\",\"2020-06-27T00:00:00\",\"2020-06-28T00:00:00\",\"2020-06-29T00:00:00\",\"2020-06-30T00:00:00\",\"2020-07-01T00:00:00\",\"2020-07-02T00:00:00\",\"2020-07-03T00:00:00\",\"2020-07-04T00:00:00\",\"2020-07-05T00:00:00\",\"2020-07-06T00:00:00\",\"2020-07-07T00:00:00\",\"2020-07-08T00:00:00\",\"2020-07-09T00:00:00\",\"2020-07-10T00:00:00\",\"2020-07-11T00:00:00\",\"2020-07-12T00:00:00\",\"2020-07-13T00:00:00\",\"2020-07-14T00:00:00\",\"2020-07-15T00:00:00\",\"2020-07-16T00:00:00\",\"2020-07-17T00:00:00\",\"2020-07-18T00:00:00\",\"2020-07-19T00:00:00\",\"2020-07-20T00:00:00\",\"2020-07-21T00:00:00\",\"2020-07-22T00:00:00\",\"2020-07-23T00:00:00\",\"2020-07-24T00:00:00\",\"2020-07-25T00:00:00\",\"2020-07-26T00:00:00\",\"2020-07-27T00:00:00\"],\"y\":[555,654,941,1434,2118,2927,5578,6166,8234,9927,12038,16787,19887,23898,27643,30802,34334,37068,40095,42633,44675,46561,60206,66690,68765,70879,72815,74609,75030,75577,76206,77967,78290,78854,79707,80670,82034,83411,85306,87690,89664,92241,94540,97331,101274,105312,109266,113166,118190,125853,131603,146008,157114,168260,182919,198757,218343,246261,275869,308175,341585,383750,424889,475706,538666,603066,670723,730300,794939,871355,947569,1028968,1112123,1192586,1264304,1336976,1413849,1497624,1584249,1671907,1748872,1845653,1915247,1985174,2066003,2162715,2250439,2324396,2404919,2478258,2553508,2630314,2719327,2806267,2891199,2964146,3032850,3108149,3185195,3268876,3355922,3437608,3515244,3591321,3671310,3761332,3850418,3941935,4027781,4104027,4180268,4263867,4348619,4445724,4542073,4637485,4715994,4804278,4900702,5003730,5110064,5216964,5322253,5417579,5504542,5597064,5699664,5818978,5940145,6077978,6185530,6280725,6401536,6520924,6647861,6778724,6914666,7026925,7129150,7253492,7387517,7525631,7654725,7790735,7924156,8043794,8185197,8327050,8466978,8647784,8805336,8933875,9071733,9237071,9408254,9586141,9777487,9955597,10117227,10275799,10449697,10667386,10875091,11078585,11272152,11454847,11622190,11833034,12044836,12273063,12505640,12721968,12914636,13107415,13328867,13559984,13812525,14054563,14292198,14506845,14713623,14947078,15227725,15510481,15791645,16047190,16251796,16480485],\"type\":\"scatter\"},{\"hoverinfo\":\"skip\",\"line\":{\"width\":0},\"mode\":\"lines\",\"x\":[\"2020-01-22T00:00:00\",\"2020-01-23T00:00:00\",\"2020-01-24T00:00:00\",\"2020-01-25T00:00:00\",\"2020-01-26T00:00:00\",\"2020-01-27T00:00:00\",\"2020-01-28T00:00:00\",\"2020-01-29T00:00:00\",\"2020-01-30T00:00:00\",\"2020-01-31T00:00:00\",\"2020-02-01T00:00:00\",\"2020-02-02T00:00:00\",\"2020-02-03T00:00:00\",\"2020-02-04T00:00:00\",\"2020-02-05T00:00:00\",\"2020-02-06T00:00:00\",\"2020-02-07T00:00:00\",\"2020-02-08T00:00:00\",\"2020-02-09T00:00:00\",\"2020-02-10T00:00:00\",\"2020-02-11T00:00:00\",\"2020-02-12T00:00:00\",\"2020-02-13T00:00:00\",\"2020-02-14T00:00:00\",\"2020-02-15T00:00:00\",\"2020-02-16T00:00:00\",\"2020-02-17T00:00:00\",\"2020-02-18T00:00:00\",\"2020-02-19T00:00:00\",\"2020-02-20T00:00:00\",\"2020-02-21T00:00:00\",\"2020-02-22T00:00:00\",\"2020-02-23T00:00:00\",\"2020-02-24T00:00:00\",\"2020-02-25T00:00:00\",\"2020-02-26T00:00:00\",\"2020-02-27T00:00:00\",\"2020-02-28T00:00:00\",\"2020-02-29T00:00:00\",\"2020-03-01T00:00:00\",\"2020-03-02T00:00:00\",\"2020-03-03T00:00:00\",\"2020-03-04T00:00:00\",\"2020-03-05T00:00:00\",\"2020-03-06T00:00:00\",\"2020-03-07T00:00:00\",\"2020-03-08T00:00:00\",\"2020-03-09T00:00:00\",\"2020-03-10T00:00:00\",\"2020-03-11T00:00:00\",\"2020-03-12T00:00:00\",\"2020-03-13T00:00:00\",\"2020-03-14T00:00:00\",\"2020-03-15T00:00:00\",\"2020-03-16T00:00:00\",\"2020-03-17T00:00:00\",\"2020-03-18T00:00:00\",\"2020-03-19T00:00:00\",\"2020-03-20T00:00:00\",\"2020-03-21T00:00:00\",\"2020-03-22T00:00:00\",\"2020-03-23T00:00:00\",\"2020-03-24T00:00:00\",\"2020-03-25T00:00:00\",\"2020-03-26T00:00:00\",\"2020-03-27T00:00:00\",\"2020-03-28T00:00:00\",\"2020-03-29T00:00:00\",\"2020-03-30T00:00:00\",\"2020-03-31T00:00:00\",\"2020-04-01T00:00:00\",\"2020-04-02T00:00:00\",\"2020-04-03T00:00:00\",\"2020-04-04T00:00:00\",\"2020-04-05T00:00:00\",\"2020-04-06T00:00:00\",\"2020-04-07T00:00:00\",\"2020-04-08T00:00:00\",\"2020-04-09T00:00:00\",\"2020-04-10T00:00:00\",\"2020-04-11T00:00:00\",\"2020-04-12T00:00:00\",\"2020-04-13T00:00:00\",\"2020-04-14T00:00:00\",\"2020-04-15T00:00:00\",\"2020-04-16T00:00:00\",\"2020-04-17T00:00:00\",\"2020-04-18T00:00:00\",\"2020-04-19T00:00:00\",\"2020-04-20T00:00:00\",\"2020-04-21T00:00:00\",\"2020-04-22T00:00:00\",\"2020-04-23T00:00:00\",\"2020-04-24T00:00:00\",\"2020-04-25T00:00:00\",\"2020-04-26T00:00:00\",\"2020-04-27T00:00:00\",\"2020-04-28T00:00:00\",\"2020-04-29T00:00:00\",\"2020-04-30T00:00:00\",\"2020-05-01T00:00:00\",\"2020-05-02T00:00:00\",\"2020-05-03T00:00:00\",\"2020-05-04T00:00:00\",\"2020-05-05T00:00:00\",\"2020-05-06T00:00:00\",\"2020-05-07T00:00:00\",\"2020-05-08T00:00:00\",\"2020-05-09T00:00:00\",\"2020-05-10T00:00:00\",\"2020-05-11T00:00:00\",\"2020-05-12T00:00:00\",\"2020-05-13T00:00:00\",\"2020-05-14T00:00:00\",\"2020-05-15T00:00:00\",\"2020-05-16T00:00:00\",\"2020-05-17T00:00:00\",\"2020-05-18T00:00:00\",\"2020-05-19T00:00:00\",\"2020-05-20T00:00:00\",\"2020-05-21T00:00:00\",\"2020-05-22T00:00:00\",\"2020-05-23T00:00:00\",\"2020-05-24T00:00:00\",\"2020-05-25T00:00:00\",\"2020-05-26T00:00:00\",\"2020-05-27T00:00:00\",\"2020-05-28T00:00:00\",\"2020-05-29T00:00:00\",\"2020-05-30T00:00:00\",\"2020-05-31T00:00:00\",\"2020-06-01T00:00:00\",\"2020-06-02T00:00:00\",\"2020-06-03T00:00:00\",\"2020-06-04T00:00:00\",\"2020-06-05T00:00:00\",\"2020-06-06T00:00:00\",\"2020-06-07T00:00:00\",\"2020-06-08T00:00:00\",\"2020-06-09T00:00:00\",\"2020-06-10T00:00:00\",\"2020-06-11T00:00:00\",\"2020-06-12T00:00:00\",\"2020-06-13T00:00:00\",\"2020-06-14T00:00:00\",\"2020-06-15T00:00:00\",\"2020-06-16T00:00:00\",\"2020-06-17T00:00:00\",\"2020-06-18T00:00:00\",\"2020-06-19T00:00:00\",\"2020-06-20T00:00:00\",\"2020-06-21T00:00:00\",\"2020-06-22T00:00:00\",\"2020-06-23T00:00:00\",\"2020-06-24T00:00:00\",\"2020-06-25T00:00:00\",\"2020-06-26T00:00:00\",\"2020-06-27T00:00:00\",\"2020-06-28T00:00:00\",\"2020-06-29T00:00:00\",\"2020-06-30T00:00:00\",\"2020-07-01T00:00:00\",\"2020-07-02T00:00:00\",\"2020-07-03T00:00:00\",\"2020-07-04T00:00:00\",\"2020-07-05T00:00:00\",\"2020-07-06T00:00:00\",\"2020-07-07T00:00:00\",\"2020-07-08T00:00:00\",\"2020-07-09T00:00:00\",\"2020-07-10T00:00:00\",\"2020-07-11T00:00:00\",\"2020-07-12T00:00:00\",\"2020-07-13T00:00:00\",\"2020-07-14T00:00:00\",\"2020-07-15T00:00:00\",\"2020-07-16T00:00:00\",\"2020-07-17T00:00:00\",\"2020-07-18T00:00:00\",\"2020-07-19T00:00:00\",\"2020-07-20T00:00:00\",\"2020-07-21T00:00:00\",\"2020-07-22T00:00:00\",\"2020-07-23T00:00:00\",\"2020-07-24T00:00:00\",\"2020-07-25T00:00:00\",\"2020-07-26T00:00:00\",\"2020-07-27T00:00:00\",\"2020-07-28T00:00:00\",\"2020-07-29T00:00:00\",\"2020-07-30T00:00:00\",\"2020-07-31T00:00:00\",\"2020-08-01T00:00:00\",\"2020-08-02T00:00:00\",\"2020-08-03T00:00:00\"],\"y\":[-125949.59915035243,-108982.15441594952,-87738.3391979201,-89224.1284180215,-101130.45340981235,-99129.15681357306,-114006.06039279391,-98735.39571053731,-88863.849390289,-76063.2857005408,-71134.85796080377,-77623.7611213888,-82923.9989769131,-89838.20185815831,-81270.03684545866,-69215.53398261433,-66051.33863328057,-61359.85481233549,-57805.1618388274,-62130.602152218635,-77289.39900099019,-67017.74518515848,-56071.39689274752,-38945.55747945296,-38703.49712974865,-34009.26629060157,-46919.65440407906,-50340.04458475912,-51883.35029546153,-42220.55588572396,-21538.444930671612,-19415.907054292453,-18897.14923512608,-31545.509288207533,-41470.39508399388,-38145.50642822383,-11838.59927074538,-6602.975559155237,-46.56212307685023,-4618.834718806665,-9784.47698441387,-25059.6795458767,-20361.60598976563,4672.208131334279,16147.992554806093,30105.378939769926,26174.70384278433,12517.943830508995,6330.922208849144,16790.44139230213,33737.388809224845,48143.34543250257,59635.760103601475,65688.31889278938,67681.28942408387,73440.4167032826,103923.3407199872,136601.3391464925,184055.21777222314,212385.73077223104,240590.05919295616,275090.1552423128,313318.733019203,371357.6897411994,445754.3956909284,495274.29831274337,558083.5027879792,633495.7282497837,695276.2326648582,758672.4459977975,845220.556249804,927199.7391224517,1015904.2158754524,1098422.9570458182,1173613.429326654,1237360.0507508868,1304209.9121907835,1388948.0443022058,1494527.8422863712,1581842.3825144928,1652994.6102875986,1732926.4177736018,1808734.701819142,1873669.7881644801,1949767.7317519744,2047036.8097862515,2134624.150837817,2220365.4888079497,2298181.054589303,2365409.8647834407,2431298.686515191,2515898.2445758223,2610803.8259276845,2702067.4522083867,2788038.2346047554,2854578.8706202335,2930026.556929358,2997823.03955925,3077943.4870561245,3176556.9728551037,3268117.378097583,3355919.822396013,3425502.9679992935,3492845.764485889,3568525.8440318415,3651422.0569305876,3740311.937560682,3832587.3866985026,3923625.772642393,4006252.5241044047,4080027.6074046846,4152746.0543830963,4239846.915515014,4326908.517866075,4431951.609592814,4531028.239354736,4622425.755714607,4703389.153694727,4787061.697906246,4887361.749146486,5002600.098895647,5107198.197766752,5214951.914674427,5322740.983245835,5411471.478355584,5503346.931384032,5621223.743567394,5755076.9911155775,5865221.570676108,5998153.146369079,6109026.598925367,6211290.294427237,6305537.307828048,6427754.160614884,6560259.738273519,6682172.873796784,6799666.253239638,6913149.525831716,7019568.286277057,7117190.3489255905,7237302.704678555,7364476.987736989,7489397.003484204,7603020.107467608,7717588.862283,7811538.476673886,7913940.074254007,8035986.813322335,8152924.851087706,8278180.407657921,8489012.930716865,8682279.563875176,8881447.078673137,9075128.783454731,9284171.72300633,9490473.150185103,9704864.286183769,9914856.790313834,10118201.902948663,10315026.809595736,10502798.075276446,10713233.992538761,10931904.678657394,11143653.259923944,11347808.027877327,11543176.82856158,11742926.045554407,11932231.102550702,12144325.397980394,12355943.127007043,12569680.1541512,12784002.531802936,12978758.238457404,13167091.03533279,13358206.24692502,13575129.137247274,13795001.852200424,13999254.599090556,14204053.973151486,14408416.918008404,14597558.652596278,14791471.527942361,15004520.730079282,15217702.422084171,15430531.160589159,15643298.082416385,15840596.666701976,16030328.202802975,16224202.106783763,16427900.920761548,16644987.241148941,16849820.866226017,17062252.625088602,17251917.592519697,17441454.664043702],\"type\":\"scatter\"},{\"fill\":\"tonexty\",\"fillcolor\":\"rgba(0, 114, 178, 0.2)\",\"line\":{\"color\":\"#0072B2\",\"width\":2},\"mode\":\"lines\",\"name\":\"Predicted\",\"x\":[\"2020-01-22T00:00:00\",\"2020-01-23T00:00:00\",\"2020-01-24T00:00:00\",\"2020-01-25T00:00:00\",\"2020-01-26T00:00:00\",\"2020-01-27T00:00:00\",\"2020-01-28T00:00:00\",\"2020-01-29T00:00:00\",\"2020-01-30T00:00:00\",\"2020-01-31T00:00:00\",\"2020-02-01T00:00:00\",\"2020-02-02T00:00:00\",\"2020-02-03T00:00:00\",\"2020-02-04T00:00:00\",\"2020-02-05T00:00:00\",\"2020-02-06T00:00:00\",\"2020-02-07T00:00:00\",\"2020-02-08T00:00:00\",\"2020-02-09T00:00:00\",\"2020-02-10T00:00:00\",\"2020-02-11T00:00:00\",\"2020-02-12T00:00:00\",\"2020-02-13T00:00:00\",\"2020-02-14T00:00:00\",\"2020-02-15T00:00:00\",\"2020-02-16T00:00:00\",\"2020-02-17T00:00:00\",\"2020-02-18T00:00:00\",\"2020-02-19T00:00:00\",\"2020-02-20T00:00:00\",\"2020-02-21T00:00:00\",\"2020-02-22T00:00:00\",\"2020-02-23T00:00:00\",\"2020-02-24T00:00:00\",\"2020-02-25T00:00:00\",\"2020-02-26T00:00:00\",\"2020-02-27T00:00:00\",\"2020-02-28T00:00:00\",\"2020-02-29T00:00:00\",\"2020-03-01T00:00:00\",\"2020-03-02T00:00:00\",\"2020-03-03T00:00:00\",\"2020-03-04T00:00:00\",\"2020-03-05T00:00:00\",\"2020-03-06T00:00:00\",\"2020-03-07T00:00:00\",\"2020-03-08T00:00:00\",\"2020-03-09T00:00:00\",\"2020-03-10T00:00:00\",\"2020-03-11T00:00:00\",\"2020-03-12T00:00:00\",\"2020-03-13T00:00:00\",\"2020-03-14T00:00:00\",\"2020-03-15T00:00:00\",\"2020-03-16T00:00:00\",\"2020-03-17T00:00:00\",\"2020-03-18T00:00:00\",\"2020-03-19T00:00:00\",\"2020-03-20T00:00:00\",\"2020-03-21T00:00:00\",\"2020-03-22T00:00:00\",\"2020-03-23T00:00:00\",\"2020-03-24T00:00:00\",\"2020-03-25T00:00:00\",\"2020-03-26T00:00:00\",\"2020-03-27T00:00:00\",\"2020-03-28T00:00:00\",\"2020-03-29T00:00:00\",\"2020-03-30T00:00:00\",\"2020-03-31T00:00:00\",\"2020-04-01T00:00:00\",\"2020-04-02T00:00:00\",\"2020-04-03T00:00:00\",\"2020-04-04T00:00:00\",\"2020-04-05T00:00:00\",\"2020-04-06T00:00:00\",\"2020-04-07T00:00:00\",\"2020-04-08T00:00:00\",\"2020-04-09T00:00:00\",\"2020-04-10T00:00:00\",\"2020-04-11T00:00:00\",\"2020-04-12T00:00:00\",\"2020-04-13T00:00:00\",\"2020-04-14T00:00:00\",\"2020-04-15T00:00:00\",\"2020-04-16T00:00:00\",\"2020-04-17T00:00:00\",\"2020-04-18T00:00:00\",\"2020-04-19T00:00:00\",\"2020-04-20T00:00:00\",\"2020-04-21T00:00:00\",\"2020-04-22T00:00:00\",\"2020-04-23T00:00:00\",\"2020-04-24T00:00:00\",\"2020-04-25T00:00:00\",\"2020-04-26T00:00:00\",\"2020-04-27T00:00:00\",\"2020-04-28T00:00:00\",\"2020-04-29T00:00:00\",\"2020-04-30T00:00:00\",\"2020-05-01T00:00:00\",\"2020-05-02T00:00:00\",\"2020-05-03T00:00:00\",\"2020-05-04T00:00:00\",\"2020-05-05T00:00:00\",\"2020-05-06T00:00:00\",\"2020-05-07T00:00:00\",\"2020-05-08T00:00:00\",\"2020-05-09T00:00:00\",\"2020-05-10T00:00:00\",\"2020-05-11T00:00:00\",\"2020-05-12T00:00:00\",\"2020-05-13T00:00:00\",\"2020-05-14T00:00:00\",\"2020-05-15T00:00:00\",\"2020-05-16T00:00:00\",\"2020-05-17T00:00:00\",\"2020-05-18T00:00:00\",\"2020-05-19T00:00:00\",\"2020-05-20T00:00:00\",\"2020-05-21T00:00:00\",\"2020-05-22T00:00:00\",\"2020-05-23T00:00:00\",\"2020-05-24T00:00:00\",\"2020-05-25T00:00:00\",\"2020-05-26T00:00:00\",\"2020-05-27T00:00:00\",\"2020-05-28T00:00:00\",\"2020-05-29T00:00:00\",\"2020-05-30T00:00:00\",\"2020-05-31T00:00:00\",\"2020-06-01T00:00:00\",\"2020-06-02T00:00:00\",\"2020-06-03T00:00:00\",\"2020-06-04T00:00:00\",\"2020-06-05T00:00:00\",\"2020-06-06T00:00:00\",\"2020-06-07T00:00:00\",\"2020-06-08T00:00:00\",\"2020-06-09T00:00:00\",\"2020-06-10T00:00:00\",\"2020-06-11T00:00:00\",\"2020-06-12T00:00:00\",\"2020-06-13T00:00:00\",\"2020-06-14T00:00:00\",\"2020-06-15T00:00:00\",\"2020-06-16T00:00:00\",\"2020-06-17T00:00:00\",\"2020-06-18T00:00:00\",\"2020-06-19T00:00:00\",\"2020-06-20T00:00:00\",\"2020-06-21T00:00:00\",\"2020-06-22T00:00:00\",\"2020-06-23T00:00:00\",\"2020-06-24T00:00:00\",\"2020-06-25T00:00:00\",\"2020-06-26T00:00:00\",\"2020-06-27T00:00:00\",\"2020-06-28T00:00:00\",\"2020-06-29T00:00:00\",\"2020-06-30T00:00:00\",\"2020-07-01T00:00:00\",\"2020-07-02T00:00:00\",\"2020-07-03T00:00:00\",\"2020-07-04T00:00:00\",\"2020-07-05T00:00:00\",\"2020-07-06T00:00:00\",\"2020-07-07T00:00:00\",\"2020-07-08T00:00:00\",\"2020-07-09T00:00:00\",\"2020-07-10T00:00:00\",\"2020-07-11T00:00:00\",\"2020-07-12T00:00:00\",\"2020-07-13T00:00:00\",\"2020-07-14T00:00:00\",\"2020-07-15T00:00:00\",\"2020-07-16T00:00:00\",\"2020-07-17T00:00:00\",\"2020-07-18T00:00:00\",\"2020-07-19T00:00:00\",\"2020-07-20T00:00:00\",\"2020-07-21T00:00:00\",\"2020-07-22T00:00:00\",\"2020-07-23T00:00:00\",\"2020-07-24T00:00:00\",\"2020-07-25T00:00:00\",\"2020-07-26T00:00:00\",\"2020-07-27T00:00:00\",\"2020-07-28T00:00:00\",\"2020-07-29T00:00:00\",\"2020-07-30T00:00:00\",\"2020-07-31T00:00:00\",\"2020-08-01T00:00:00\",\"2020-08-02T00:00:00\",\"2020-08-03T00:00:00\"],\"y\":[-20342.39602440071,-7746.6254115650045,6123.967439872916,12379.3840884669,8615.766110983044,1941.6981105030136,-10007.605082897224,-1523.2414655555785,11072.520940600538,24943.105585330693,31198.514027257334,27434.887843101897,20760.811635987233,8811.499205292115,17295.861792092597,29891.62316763682,43762.20678186322,50017.614193230795,46253.98697848297,39579.91043872663,27630.598705968194,36114.96199067193,48710.72406411299,62581.30837624948,68836.71648551412,65073.088176049714,58399.00984364709,46449.69631825677,54934.057810327635,67529.81809116974,81400.40061063683,87655.80864451655,83892.18205229759,77218.1054371295,65268.793628998275,73753.15683833427,86348.91883636096,100219.50649389745,106474.91794853235,102711.29477710865,96037.22158268408,84087.91319532158,92572.27982539512,105850.75682648858,120404.05606628268,127342.17910315953,124261.26751398844,118269.90590186177,107003.30909670633,119881.8013441441,136871.69238031917,155136.4056551946,165785.9427271793,166416.44517308107,164136.49759605655,176591.44380594546,209480.06503333297,246480.0850494573,284754.9273042673,315414.5933562124,336055.2247820594,380470.5722445925,419610.6845141188,479184.47180110076,542869.6578769073,607829.6661913213,665174.4983028808,735005.4996925514,801926.051059278,863571.3672330319,945650.3584242008,1031840.7484042009,1119305.9606228257,1202962.3012522853,1276599.6072556674,1347326.463236061,1412778.0840235183,1498663.3798284023,1588898.3082052162,1680408.0588206605,1764302.6332332082,1838178.1730197063,1909143.2627832084,1974833.1173537904,2061028.5827605985,2151335.4469561647,2242917.1333904364,2326883.6436218107,2400831.1192270922,2471868.144809383,2537629.9367530146,2623825.4037140408,2714132.2694638316,2805713.9574523307,2889680.469237903,2963627.946397412,3034860.365987884,3100817.55038536,3187208.4098002864,3277710.6680039787,3369487.748446337,3453649.6526858513,3528809.8881962746,3601059.6736837556,3668034.223978262,3755442.4492902257,3846962.0733909397,3939756.519730319,4028465.266398011,4107154.978439582,4182934.2404582384,4253438.26728392,4344375.9691270245,4439425.069758936,4543886.245317879,4640732.244673961,4727559.209403922,4811475.724111018,4890117.003625033,4989191.958156538,5102825.176348146,5217733.21677835,5325026.081005705,5422299.910606983,5516663.290185324,5605751.434570634,5726934.91566418,5852229.79554649,5978799.497667458,6097754.023585574,6206689.514877605,6312714.556146698,6413464.407893531,6534647.934657864,6659942.860210948,6786512.6080026915,6905467.179591568,7014402.71655436,7120427.802299048,7221177.6528507415,7342361.178419901,7467656.102777801,7594225.849374364,7713180.419768086,7819375.012926707,7922659.156062333,8020668.064005004,8139110.646965148,8261664.62871403,8385493.432701566,8593301.542093204,8791090.616858764,8985969.241601335,9175572.631150974,9385609.69571807,9599758.159073858,9815181.444668394,10022989.554060016,10220778.628825588,10415657.253568146,10605260.643117787,10815297.707684858,11029446.171040695,11244869.45663523,11452677.566026853,11650466.64079239,11845345.265535016,12034948.655084604,12244985.719651693,12459134.183007514,12674557.468602048,12882365.577993667,13080154.652759215,13275033.27750183,13464636.667051423,13674673.731618516,13888822.194974363,14104245.480568849,14312053.5899605,14509842.66472604,14704721.289468637,14894324.679018237,15104361.743585315,15318510.206941187,15533933.492535677,15741741.601927316,15939530.676692849,16134409.301435456,16324012.690985084,16534049.75555213,16748198.218908012,16963621.504502513,17171429.613894142,17369218.6886597,17564097.313402258],\"type\":\"scatter\"},{\"fill\":\"tonexty\",\"fillcolor\":\"rgba(0, 114, 178, 0.2)\",\"hoverinfo\":\"skip\",\"line\":{\"width\":0},\"mode\":\"lines\",\"x\":[\"2020-01-22T00:00:00\",\"2020-01-23T00:00:00\",\"2020-01-24T00:00:00\",\"2020-01-25T00:00:00\",\"2020-01-26T00:00:00\",\"2020-01-27T00:00:00\",\"2020-01-28T00:00:00\",\"2020-01-29T00:00:00\",\"2020-01-30T00:00:00\",\"2020-01-31T00:00:00\",\"2020-02-01T00:00:00\",\"2020-02-02T00:00:00\",\"2020-02-03T00:00:00\",\"2020-02-04T00:00:00\",\"2020-02-05T00:00:00\",\"2020-02-06T00:00:00\",\"2020-02-07T00:00:00\",\"2020-02-08T00:00:00\",\"2020-02-09T00:00:00\",\"2020-02-10T00:00:00\",\"2020-02-11T00:00:00\",\"2020-02-12T00:00:00\",\"2020-02-13T00:00:00\",\"2020-02-14T00:00:00\",\"2020-02-15T00:00:00\",\"2020-02-16T00:00:00\",\"2020-02-17T00:00:00\",\"2020-02-18T00:00:00\",\"2020-02-19T00:00:00\",\"2020-02-20T00:00:00\",\"2020-02-21T00:00:00\",\"2020-02-22T00:00:00\",\"2020-02-23T00:00:00\",\"2020-02-24T00:00:00\",\"2020-02-25T00:00:00\",\"2020-02-26T00:00:00\",\"2020-02-27T00:00:00\",\"2020-02-28T00:00:00\",\"2020-02-29T00:00:00\",\"2020-03-01T00:00:00\",\"2020-03-02T00:00:00\",\"2020-03-03T00:00:00\",\"2020-03-04T00:00:00\",\"2020-03-05T00:00:00\",\"2020-03-06T00:00:00\",\"2020-03-07T00:00:00\",\"2020-03-08T00:00:00\",\"2020-03-09T00:00:00\",\"2020-03-10T00:00:00\",\"2020-03-11T00:00:00\",\"2020-03-12T00:00:00\",\"2020-03-13T00:00:00\",\"2020-03-14T00:00:00\",\"2020-03-15T00:00:00\",\"2020-03-16T00:00:00\",\"2020-03-17T00:00:00\",\"2020-03-18T00:00:00\",\"2020-03-19T00:00:00\",\"2020-03-20T00:00:00\",\"2020-03-21T00:00:00\",\"2020-03-22T00:00:00\",\"2020-03-23T00:00:00\",\"2020-03-24T00:00:00\",\"2020-03-25T00:00:00\",\"2020-03-26T00:00:00\",\"2020-03-27T00:00:00\",\"2020-03-28T00:00:00\",\"2020-03-29T00:00:00\",\"2020-03-30T00:00:00\",\"2020-03-31T00:00:00\",\"2020-04-01T00:00:00\",\"2020-04-02T00:00:00\",\"2020-04-03T00:00:00\",\"2020-04-04T00:00:00\",\"2020-04-05T00:00:00\",\"2020-04-06T00:00:00\",\"2020-04-07T00:00:00\",\"2020-04-08T00:00:00\",\"2020-04-09T00:00:00\",\"2020-04-10T00:00:00\",\"2020-04-11T00:00:00\",\"2020-04-12T00:00:00\",\"2020-04-13T00:00:00\",\"2020-04-14T00:00:00\",\"2020-04-15T00:00:00\",\"2020-04-16T00:00:00\",\"2020-04-17T00:00:00\",\"2020-04-18T00:00:00\",\"2020-04-19T00:00:00\",\"2020-04-20T00:00:00\",\"2020-04-21T00:00:00\",\"2020-04-22T00:00:00\",\"2020-04-23T00:00:00\",\"2020-04-24T00:00:00\",\"2020-04-25T00:00:00\",\"2020-04-26T00:00:00\",\"2020-04-27T00:00:00\",\"2020-04-28T00:00:00\",\"2020-04-29T00:00:00\",\"2020-04-30T00:00:00\",\"2020-05-01T00:00:00\",\"2020-05-02T00:00:00\",\"2020-05-03T00:00:00\",\"2020-05-04T00:00:00\",\"2020-05-05T00:00:00\",\"2020-05-06T00:00:00\",\"2020-05-07T00:00:00\",\"2020-05-08T00:00:00\",\"2020-05-09T00:00:00\",\"2020-05-10T00:00:00\",\"2020-05-11T00:00:00\",\"2020-05-12T00:00:00\",\"2020-05-13T00:00:00\",\"2020-05-14T00:00:00\",\"2020-05-15T00:00:00\",\"2020-05-16T00:00:00\",\"2020-05-17T00:00:00\",\"2020-05-18T00:00:00\",\"2020-05-19T00:00:00\",\"2020-05-20T00:00:00\",\"2020-05-21T00:00:00\",\"2020-05-22T00:00:00\",\"2020-05-23T00:00:00\",\"2020-05-24T00:00:00\",\"2020-05-25T00:00:00\",\"2020-05-26T00:00:00\",\"2020-05-27T00:00:00\",\"2020-05-28T00:00:00\",\"2020-05-29T00:00:00\",\"2020-05-30T00:00:00\",\"2020-05-31T00:00:00\",\"2020-06-01T00:00:00\",\"2020-06-02T00:00:00\",\"2020-06-03T00:00:00\",\"2020-06-04T00:00:00\",\"2020-06-05T00:00:00\",\"2020-06-06T00:00:00\",\"2020-06-07T00:00:00\",\"2020-06-08T00:00:00\",\"2020-06-09T00:00:00\",\"2020-06-10T00:00:00\",\"2020-06-11T00:00:00\",\"2020-06-12T00:00:00\",\"2020-06-13T00:00:00\",\"2020-06-14T00:00:00\",\"2020-06-15T00:00:00\",\"2020-06-16T00:00:00\",\"2020-06-17T00:00:00\",\"2020-06-18T00:00:00\",\"2020-06-19T00:00:00\",\"2020-06-20T00:00:00\",\"2020-06-21T00:00:00\",\"2020-06-22T00:00:00\",\"2020-06-23T00:00:00\",\"2020-06-24T00:00:00\",\"2020-06-25T00:00:00\",\"2020-06-26T00:00:00\",\"2020-06-27T00:00:00\",\"2020-06-28T00:00:00\",\"2020-06-29T00:00:00\",\"2020-06-30T00:00:00\",\"2020-07-01T00:00:00\",\"2020-07-02T00:00:00\",\"2020-07-03T00:00:00\",\"2020-07-04T00:00:00\",\"2020-07-05T00:00:00\",\"2020-07-06T00:00:00\",\"2020-07-07T00:00:00\",\"2020-07-08T00:00:00\",\"2020-07-09T00:00:00\",\"2020-07-10T00:00:00\",\"2020-07-11T00:00:00\",\"2020-07-12T00:00:00\",\"2020-07-13T00:00:00\",\"2020-07-14T00:00:00\",\"2020-07-15T00:00:00\",\"2020-07-16T00:00:00\",\"2020-07-17T00:00:00\",\"2020-07-18T00:00:00\",\"2020-07-19T00:00:00\",\"2020-07-20T00:00:00\",\"2020-07-21T00:00:00\",\"2020-07-22T00:00:00\",\"2020-07-23T00:00:00\",\"2020-07-24T00:00:00\",\"2020-07-25T00:00:00\",\"2020-07-26T00:00:00\",\"2020-07-27T00:00:00\",\"2020-07-28T00:00:00\",\"2020-07-29T00:00:00\",\"2020-07-30T00:00:00\",\"2020-07-31T00:00:00\",\"2020-08-01T00:00:00\",\"2020-08-02T00:00:00\",\"2020-08-03T00:00:00\"],\"y\":[84860.20234476453,99320.08349288683,113392.75459826142,112457.69019098926,106015.98354320953,111066.24662294434,94295.08673194048,104920.93095803713,121919.98403466033,130923.50780433108,129601.66809629051,133647.99676542444,130362.76921201141,113411.2476144712,117670.86096063351,131851.4788343162,147338.5744655015,152244.61610829885,146641.95073904132,140724.17355890357,126867.14689409237,139900.05469396856,155222.4067984276,165488.3309414881,167003.89088189867,169108.4002512306,159899.8485305919,150989.72922764588,160949.25165388454,171895.2502270024,175316.17178069538,186576.3362818183,183428.65388607222,180617.79543576812,161764.49971535022,181961.43746035002,195055.03929575265,211696.12545243508,211740.74975804792,196035.741033214,205837.12621496562,184252.2449251507,193348.40800794863,215017.27800739338,226132.59391651183,232824.48240627217,229489.24046687596,219100.40897861277,219647.98764146917,219094.6836886738,241006.65555341606,257464.77679305038,271080.39030237345,275863.7073876402,265270.8463513024,290472.34217153885,315377.80116334395,355945.4967969266,386612.7820351495,413077.1127382748,443285.8133387978,480676.35901042336,526183.8061795873,583590.6172086308,646176.616793421,707485.6081511833,767698.439648139,843674.3835475792,908370.4606765327,967146.5772371107,1050368.5438500443,1131785.218557477,1217380.5909804753,1302780.9437140315,1385568.7948253832,1454393.972482771,1508599.4732261817,1602768.2548901683,1692596.350743278,1782362.4645854856,1867875.6633504755,1946616.688706832,2015377.5184169128,2081693.9801466228,2163725.809667571,2251050.7456535595,2335283.046010893,2430664.422275248,2501085.401055967,2578930.1312663583,2645210.911404038,2730527.4211986205,2821117.370450787,2914694.0064416537,2990772.9746171944,3069724.1180206183,3140176.8870981857,3203708.679735255,3285501.061673516,3381769.3314867625,3482407.282839059,3562597.3196810368,3642500.8484617057,3708736.835611131,3771146.979080572,3860615.0383329424,3948034.498135613,4044887.58185206,4125324.659069182,4215861.653964882,4284120.835144583,4364575.636918108,4443530.74184547,4545593.379478384,4654678.457278398,4742232.546676432,4833388.27375945,4913656.3479057625,4996772.974669839,5095231.625376679,5209228.5028235,5317744.893735274,5427602.663157533,5519661.7971935775,5626860.053522679,5704928.537978208,5835566.587903903,5960871.894541899,6083026.264941458,6209303.206599383,6306912.294294275,6420145.668158053,6511221.028860284,6642013.583468642,6752726.746946988,6892469.4908369435,7005837.65900876,7112557.030271603,7222970.958695938,7324242.186159033,7445649.050196491,7573278.295089838,7695701.608080678,7816617.120738489,7935332.767857686,8024021.746877994,8123795.558747566,8249798.861631678,8363247.982337713,8488525.184009073,8705704.827088624,8890884.545312624,9085363.181801615,9277471.587077368,9485711.31241512,9708772.368822878,9923607.231365358,10125009.336219667,10328368.501083478,10519502.853535844,10706174.256752867,10925538.074153217,11141494.066720849,11340248.855003502,11554262.216983689,11751709.309773803,11959749.520386053,12140844.613782259,12356106.37057479,12564064.329283658,12779319.01301544,12987100.803105943,13190433.893533787,13379482.14731444,13565191.87714915,13776305.633204753,13987653.022900425,14209283.517204402,14411636.047085436,14622281.194399424,14805345.187606132,14999611.652715975,15213974.621219346,15422026.833500117,15643448.183919776,15849424.240157196,16044854.4995614,16235999.355683746,16428407.699076591,16636271.447508136,16859716.42106946,17073847.655579057,17276171.213939212,17479722.085996743,17683228.32212489],\"type\":\"scatter\"}],                        {\"height\":600,\"showlegend\":false,\"width\":900,\"xaxis\":{\"rangeselector\":{\"buttons\":[{\"count\":7,\"label\":\"1w\",\"step\":\"day\",\"stepmode\":\"backward\"},{\"count\":1,\"label\":\"1m\",\"step\":\"month\",\"stepmode\":\"backward\"},{\"count\":6,\"label\":\"6m\",\"step\":\"month\",\"stepmode\":\"backward\"},{\"count\":1,\"label\":\"1y\",\"step\":\"year\",\"stepmode\":\"backward\"},{\"step\":\"all\"}]},\"rangeslider\":{\"visible\":true},\"title\":{\"text\":\"Date\"},\"type\":\"date\"},\"yaxis\":{\"title\":{\"text\":\"Number of Cases\"}},\"template\":{\"data\":{\"histogram2dcontour\":[{\"type\":\"histogram2dcontour\",\"colorbar\":{\"outlinewidth\":0,\"ticks\":\"\"},\"colorscale\":[[0.0,\"#0d0887\"],[0.1111111111111111,\"#46039f\"],[0.2222222222222222,\"#7201a8\"],[0.3333333333333333,\"#9c179e\"],[0.4444444444444444,\"#bd3786\"],[0.5555555555555556,\"#d8576b\"],[0.6666666666666666,\"#ed7953\"],[0.7777777777777778,\"#fb9f3a\"],[0.8888888888888888,\"#fdca26\"],[1.0,\"#f0f921\"]]}],\"choropleth\":[{\"type\":\"choropleth\",\"colorbar\":{\"outlinewidth\":0,\"ticks\":\"\"}}],\"histogram2d\":[{\"type\":\"histogram2d\",\"colorbar\":{\"outlinewidth\":0,\"ticks\":\"\"},\"colorscale\":[[0.0,\"#0d0887\"],[0.1111111111111111,\"#46039f\"],[0.2222222222222222,\"#7201a8\"],[0.3333333333333333,\"#9c179e\"],[0.4444444444444444,\"#bd3786\"],[0.5555555555555556,\"#d8576b\"],[0.6666666666666666,\"#ed7953\"],[0.7777777777777778,\"#fb9f3a\"],[0.8888888888888888,\"#fdca26\"],[1.0,\"#f0f921\"]]}],\"heatmap\":[{\"type\":\"heatmap\",\"colorbar\":{\"outlinewidth\":0,\"ticks\":\"\"},\"colorscale\":[[0.0,\"#0d0887\"],[0.1111111111111111,\"#46039f\"],[0.2222222222222222,\"#7201a8\"],[0.3333333333333333,\"#9c179e\"],[0.4444444444444444,\"#bd3786\"],[0.5555555555555556,\"#d8576b\"],[0.6666666666666666,\"#ed7953\"],[0.7777777777777778,\"#fb9f3a\"],[0.8888888888888888,\"#fdca26\"],[1.0,\"#f0f921\"]]}],\"heatmapgl\":[{\"type\":\"heatmapgl\",\"colorbar\":{\"outlinewidth\":0,\"ticks\":\"\"},\"colorscale\":[[0.0,\"#0d0887\"],[0.1111111111111111,\"#46039f\"],[0.2222222222222222,\"#7201a8\"],[0.3333333333333333,\"#9c179e\"],[0.4444444444444444,\"#bd3786\"],[0.5555555555555556,\"#d8576b\"],[0.6666666666666666,\"#ed7953\"],[0.7777777777777778,\"#fb9f3a\"],[0.8888888888888888,\"#fdca26\"],[1.0,\"#f0f921\"]]}],\"contourcarpet\":[{\"type\":\"contourcarpet\",\"colorbar\":{\"outlinewidth\":0,\"ticks\":\"\"}}],\"contour\":[{\"type\":\"contour\",\"colorbar\":{\"outlinewidth\":0,\"ticks\":\"\"},\"colorscale\":[[0.0,\"#0d0887\"],[0.1111111111111111,\"#46039f\"],[0.2222222222222222,\"#7201a8\"],[0.3333333333333333,\"#9c179e\"],[0.4444444444444444,\"#bd3786\"],[0.5555555555555556,\"#d8576b\"],[0.6666666666666666,\"#ed7953\"],[0.7777777777777778,\"#fb9f3a\"],[0.8888888888888888,\"#fdca26\"],[1.0,\"#f0f921\"]]}],\"surface\":[{\"type\":\"surface\",\"colorbar\":{\"outlinewidth\":0,\"ticks\":\"\"},\"colorscale\":[[0.0,\"#0d0887\"],[0.1111111111111111,\"#46039f\"],[0.2222222222222222,\"#7201a8\"],[0.3333333333333333,\"#9c179e\"],[0.4444444444444444,\"#bd3786\"],[0.5555555555555556,\"#d8576b\"],[0.6666666666666666,\"#ed7953\"],[0.7777777777777778,\"#fb9f3a\"],[0.8888888888888888,\"#fdca26\"],[1.0,\"#f0f921\"]]}],\"mesh3d\":[{\"type\":\"mesh3d\",\"colorbar\":{\"outlinewidth\":0,\"ticks\":\"\"}}],\"scatter\":[{\"fillpattern\":{\"fillmode\":\"overlay\",\"size\":10,\"solidity\":0.2},\"type\":\"scatter\"}],\"parcoords\":[{\"type\":\"parcoords\",\"line\":{\"colorbar\":{\"outlinewidth\":0,\"ticks\":\"\"}}}],\"scatterpolargl\":[{\"type\":\"scatterpolargl\",\"marker\":{\"colorbar\":{\"outlinewidth\":0,\"ticks\":\"\"}}}],\"bar\":[{\"error_x\":{\"color\":\"#2a3f5f\"},\"error_y\":{\"color\":\"#2a3f5f\"},\"marker\":{\"line\":{\"color\":\"#E5ECF6\",\"width\":0.5},\"pattern\":{\"fillmode\":\"overlay\",\"size\":10,\"solidity\":0.2}},\"type\":\"bar\"}],\"scattergeo\":[{\"type\":\"scattergeo\",\"marker\":{\"colorbar\":{\"outlinewidth\":0,\"ticks\":\"\"}}}],\"scatterpolar\":[{\"type\":\"scatterpolar\",\"marker\":{\"colorbar\":{\"outlinewidth\":0,\"ticks\":\"\"}}}],\"histogram\":[{\"marker\":{\"pattern\":{\"fillmode\":\"overlay\",\"size\":10,\"solidity\":0.2}},\"type\":\"histogram\"}],\"scattergl\":[{\"type\":\"scattergl\",\"marker\":{\"colorbar\":{\"outlinewidth\":0,\"ticks\":\"\"}}}],\"scatter3d\":[{\"type\":\"scatter3d\",\"line\":{\"colorbar\":{\"outlinewidth\":0,\"ticks\":\"\"}},\"marker\":{\"colorbar\":{\"outlinewidth\":0,\"ticks\":\"\"}}}],\"scattermapbox\":[{\"type\":\"scattermapbox\",\"marker\":{\"colorbar\":{\"outlinewidth\":0,\"ticks\":\"\"}}}],\"scatterternary\":[{\"type\":\"scatterternary\",\"marker\":{\"colorbar\":{\"outlinewidth\":0,\"ticks\":\"\"}}}],\"scattercarpet\":[{\"type\":\"scattercarpet\",\"marker\":{\"colorbar\":{\"outlinewidth\":0,\"ticks\":\"\"}}}],\"carpet\":[{\"aaxis\":{\"endlinecolor\":\"#2a3f5f\",\"gridcolor\":\"white\",\"linecolor\":\"white\",\"minorgridcolor\":\"white\",\"startlinecolor\":\"#2a3f5f\"},\"baxis\":{\"endlinecolor\":\"#2a3f5f\",\"gridcolor\":\"white\",\"linecolor\":\"white\",\"minorgridcolor\":\"white\",\"startlinecolor\":\"#2a3f5f\"},\"type\":\"carpet\"}],\"table\":[{\"cells\":{\"fill\":{\"color\":\"#EBF0F8\"},\"line\":{\"color\":\"white\"}},\"header\":{\"fill\":{\"color\":\"#C8D4E3\"},\"line\":{\"color\":\"white\"}},\"type\":\"table\"}],\"barpolar\":[{\"marker\":{\"line\":{\"color\":\"#E5ECF6\",\"width\":0.5},\"pattern\":{\"fillmode\":\"overlay\",\"size\":10,\"solidity\":0.2}},\"type\":\"barpolar\"}],\"pie\":[{\"automargin\":true,\"type\":\"pie\"}]},\"layout\":{\"autotypenumbers\":\"strict\",\"colorway\":[\"#636efa\",\"#EF553B\",\"#00cc96\",\"#ab63fa\",\"#FFA15A\",\"#19d3f3\",\"#FF6692\",\"#B6E880\",\"#FF97FF\",\"#FECB52\"],\"font\":{\"color\":\"#2a3f5f\"},\"hovermode\":\"closest\",\"hoverlabel\":{\"align\":\"left\"},\"paper_bgcolor\":\"white\",\"plot_bgcolor\":\"#E5ECF6\",\"polar\":{\"bgcolor\":\"#E5ECF6\",\"angularaxis\":{\"gridcolor\":\"white\",\"linecolor\":\"white\",\"ticks\":\"\"},\"radialaxis\":{\"gridcolor\":\"white\",\"linecolor\":\"white\",\"ticks\":\"\"}},\"ternary\":{\"bgcolor\":\"#E5ECF6\",\"aaxis\":{\"gridcolor\":\"white\",\"linecolor\":\"white\",\"ticks\":\"\"},\"baxis\":{\"gridcolor\":\"white\",\"linecolor\":\"white\",\"ticks\":\"\"},\"caxis\":{\"gridcolor\":\"white\",\"linecolor\":\"white\",\"ticks\":\"\"}},\"coloraxis\":{\"colorbar\":{\"outlinewidth\":0,\"ticks\":\"\"}},\"colorscale\":{\"sequential\":[[0.0,\"#0d0887\"],[0.1111111111111111,\"#46039f\"],[0.2222222222222222,\"#7201a8\"],[0.3333333333333333,\"#9c179e\"],[0.4444444444444444,\"#bd3786\"],[0.5555555555555556,\"#d8576b\"],[0.6666666666666666,\"#ed7953\"],[0.7777777777777778,\"#fb9f3a\"],[0.8888888888888888,\"#fdca26\"],[1.0,\"#f0f921\"]],\"sequentialminus\":[[0.0,\"#0d0887\"],[0.1111111111111111,\"#46039f\"],[0.2222222222222222,\"#7201a8\"],[0.3333333333333333,\"#9c179e\"],[0.4444444444444444,\"#bd3786\"],[0.5555555555555556,\"#d8576b\"],[0.6666666666666666,\"#ed7953\"],[0.7777777777777778,\"#fb9f3a\"],[0.8888888888888888,\"#fdca26\"],[1.0,\"#f0f921\"]],\"diverging\":[[0,\"#8e0152\"],[0.1,\"#c51b7d\"],[0.2,\"#de77ae\"],[0.3,\"#f1b6da\"],[0.4,\"#fde0ef\"],[0.5,\"#f7f7f7\"],[0.6,\"#e6f5d0\"],[0.7,\"#b8e186\"],[0.8,\"#7fbc41\"],[0.9,\"#4d9221\"],[1,\"#276419\"]]},\"xaxis\":{\"gridcolor\":\"white\",\"linecolor\":\"white\",\"ticks\":\"\",\"title\":{\"standoff\":15},\"zerolinecolor\":\"white\",\"automargin\":true,\"zerolinewidth\":2},\"yaxis\":{\"gridcolor\":\"white\",\"linecolor\":\"white\",\"ticks\":\"\",\"title\":{\"standoff\":15},\"zerolinecolor\":\"white\",\"automargin\":true,\"zerolinewidth\":2},\"scene\":{\"xaxis\":{\"backgroundcolor\":\"#E5ECF6\",\"gridcolor\":\"white\",\"linecolor\":\"white\",\"showbackground\":true,\"ticks\":\"\",\"zerolinecolor\":\"white\",\"gridwidth\":2},\"yaxis\":{\"backgroundcolor\":\"#E5ECF6\",\"gridcolor\":\"white\",\"linecolor\":\"white\",\"showbackground\":true,\"ticks\":\"\",\"zerolinecolor\":\"white\",\"gridwidth\":2},\"zaxis\":{\"backgroundcolor\":\"#E5ECF6\",\"gridcolor\":\"white\",\"linecolor\":\"white\",\"showbackground\":true,\"ticks\":\"\",\"zerolinecolor\":\"white\",\"gridwidth\":2}},\"shapedefaults\":{\"line\":{\"color\":\"#2a3f5f\"}},\"annotationdefaults\":{\"arrowcolor\":\"#2a3f5f\",\"arrowhead\":0,\"arrowwidth\":1},\"geo\":{\"bgcolor\":\"white\",\"landcolor\":\"#E5ECF6\",\"subunitcolor\":\"white\",\"showland\":true,\"showlakes\":true,\"lakecolor\":\"white\"},\"title\":{\"x\":0.05},\"mapbox\":{\"style\":\"light\"}}},\"title\":{\"text\":\"Interactive Forecast of COVID-19 Global Cases\"},\"legend\":{\"title\":{\"text\":\"Legend\"}}},                        {\"responsive\": true}                    ).then(function(){\n",
       "                            \n",
       "var gd = document.getElementById('3a27afe8-1263-406c-bed9-7cf081bf8f0c');\n",
       "var x = new MutationObserver(function (mutations, observer) {{\n",
       "        var display = window.getComputedStyle(gd).display;\n",
       "        if (!display || display === 'none') {{\n",
       "            console.log([gd, 'removed!']);\n",
       "            Plotly.purge(gd);\n",
       "            observer.disconnect();\n",
       "        }}\n",
       "}});\n",
       "\n",
       "// Listen for the removal of the full notebook cells\n",
       "var notebookContainer = gd.closest('#notebook-container');\n",
       "if (notebookContainer) {{\n",
       "    x.observe(notebookContainer, {childList: true});\n",
       "}}\n",
       "\n",
       "// Listen for the clearing of the current output cell\n",
       "var outputEl = gd.closest('.output');\n",
       "if (outputEl) {{\n",
       "    x.observe(outputEl, {childList: true});\n",
       "}}\n",
       "\n",
       "                        })                };                });            </script>        </div>"
      ]
     },
     "metadata": {},
     "output_type": "display_data"
    }
   ],
   "source": [
    "import matplotlib.pyplot as plt\n",
    "from prophet.plot import plot_plotly\n",
    "\n",
    "fig = model.plot(forecast)\n",
    "\n",
    "ax = fig.gca()  \n",
    "ax.set_title('COVID-19 Global Case Forecast (Next 7 Days)', fontsize=16)\n",
    "ax.set_xlabel('Date', fontsize=12)\n",
    "ax.set_ylabel('Number of Cases', fontsize=12)\n",
    "\n",
    "plt.grid()\n",
    "plt.show()\n",
    "\n",
    "plotly_fig = plot_plotly(model, forecast)\n",
    "plotly_fig.update_layout(\n",
    "    title=\"Interactive Forecast of COVID-19 Global Cases\",\n",
    "    xaxis_title=\"Date\",\n",
    "    yaxis_title=\"Number of Cases\",\n",
    "    legend_title=\"Legend\"\n",
    ")\n",
    "plotly_fig.show()"
   ]
  },
  {
   "cell_type": "code",
   "execution_count": null,
   "id": "629b8a1b",
   "metadata": {},
   "outputs": [],
   "source": []
  }
 ],
 "metadata": {
  "kernelspec": {
   "display_name": "Python 3 (ipykernel)",
   "language": "python",
   "name": "python3"
  },
  "language_info": {
   "codemirror_mode": {
    "name": "ipython",
    "version": 3
   },
   "file_extension": ".py",
   "mimetype": "text/x-python",
   "name": "python",
   "nbconvert_exporter": "python",
   "pygments_lexer": "ipython3",
   "version": "3.11.7"
  }
 },
 "nbformat": 4,
 "nbformat_minor": 5
}
